{
 "cells": [
  {
   "cell_type": "code",
   "execution_count": 10,
   "id": "80041d02",
   "metadata": {
    "ExecuteTime": {
     "end_time": "2022-12-28T07:53:58.194081Z",
     "start_time": "2022-12-28T07:53:28.196670Z"
    },
    "scrolled": true
   },
   "outputs": [
    {
     "name": "stdout",
     "output_type": "stream",
     "text": [
      "end\n"
     ]
    }
   ],
   "source": [
    "import xarray as xr\n",
    "import inspect\n",
    "import pandas as pd\n",
    "import numpy as np\n",
    "import datetime\n",
    "import matplotlib.pyplot as plt\n",
    "import cartopy.crs as ccrs\n",
    "import cartopy.util as cutil\n",
    "import cartopy.feature as cfeature\n",
    "from cartopy.mpl.ticker import LongitudeFormatter, LatitudeFormatter\n",
    "\n",
    "month = [1,2,3,4,5,6,7,8,9,10,11,12]\n",
    "prateyear = xr.DataArray()\n",
    "#month10dy = xr.DataArray(np.zeros((3,94,192))) # ループの中でやらないとどんどん増える\n",
    "\n",
    "\n",
    "# prate.sfc.gauss.XXXX.nc読み込み、１０日毎に単純平均を取ったらバイナリファイルprate10dy.datに保存\n",
    "# 他にdlwrf,lhtfl,shtfl,ulwrf,uflx,uswrf,vflxがある\n",
    "# lhtflは次のFreshWaterFlux作成でも使う\n",
    "with open('prate10dy.dat',mode='a') as f:\n",
    "    for year in range(1948,2022): # 1948-2021\n",
    "        month10dy = xr.DataArray(np.zeros((3,94,192))) # コピー用の配列を初期化\n",
    "        pratenc = '01_ESTOC_ForcingData/NCEP_NCAR_Forcing/NCEP/prate.sfc.gauss.'+str(year)+'.nc' # ncファイルはすべてlat94,lon192,Time365\n",
    "\n",
    "        pratenc = xr.open_dataset(pratenc)['prate'].load() # パタメータ名はファイルから読める。load()は配列をメモリに一度全部読み込む\n",
    "\n",
    "    \n",
    "        #dlwrf = np.empty([366,94,192]) # 10日区切りを保存する変数、命名は上と同じくファイルから読むべき\n",
    "        for x in month:\n",
    "        # 範囲指定用の文字列構成\n",
    "            start1 = str(year) + '-' + str(x) + '-1'\n",
    "            end1 = str(year) + '-' + str(x) + '-10'\n",
    "            start2 = str(year) + '-' + str(x) + '-11'\n",
    "            end2 = str(year) + '-' + str(x) + '-20'\n",
    "            start3 = str(year) + '-' + str(x) + '-21'\n",
    "    \n",
    "            if x == 12:\n",
    "                nextmonth = 1\n",
    "                lastday = str(year+1) + '-' + str(nextmonth) + '-1'\n",
    "            else:\n",
    "                nextmonth = x + 1\n",
    "                lastday = str(year) + '-' + str(nextmonth) + '-1'\n",
    "\n",
    "            end3 = datetime.datetime.strptime(lastday,'%Y-%m-%d') - datetime.timedelta(days = 1)\n",
    "            end3 = end3.strftime('%Y-%m-%d')\n",
    "\n",
    "            # 上中下旬に分けて平均を取る（とりあえずmean重みなし）\n",
    "            data_mean_10dy1 = pratenc.loc[start1:end1].mean(dim='time')\n",
    "            data_mean_10dy2 = pratenc.loc[start2:end2].mean(dim='time')\n",
    "            data_mean_10dy3 = pratenc.loc[start3:end3].mean(dim='time')\n",
    "\n",
    "            #月毎に10日区切りで3つ作ったら保存用の配列に代入\n",
    "            temp = np.stack([data_mean_10dy1,data_mean_10dy2,data_mean_10dy3],0) # tempは1ヶ月分\n",
    "            month10dy = np.append(month10dy,temp,axis=0) # 1ヶ月分のtempを順番にappendしていく（70年分）\n",
    "\n",
    "            prateyear = month10dy[3:] # 最初の3つは0なので消しておく\n",
    "\n",
    "# どんどん遅くなるので一旦バイナリファイルとして保存\n",
    "# 最後の4つが空列になってる?\n",
    "        prateyear.tofile(f)\n",
    "#        from IPython.core.debugger import Pdb; Pdb().set_trace()\n",
    "\n",
    "\n",
    "print('end')\n"
   ]
  },
  {
   "cell_type": "code",
   "execution_count": 11,
   "id": "fffabb3b",
   "metadata": {
    "ExecuteTime": {
     "end_time": "2022-12-28T07:54:52.246913Z",
     "start_time": "2022-12-28T07:54:51.619110Z"
    }
   },
   "outputs": [],
   "source": [
    "prate = np.fromfile('prate10dy.dat').reshape(2664,94,192)\n"
   ]
  },
  {
   "cell_type": "code",
   "execution_count": 13,
   "id": "0e74f612",
   "metadata": {
    "ExecuteTime": {
     "end_time": "2022-12-28T07:55:26.324772Z",
     "start_time": "2022-12-28T07:55:26.314870Z"
    }
   },
   "outputs": [
    {
     "ename": "NameError",
     "evalue": "name 'data_mean_10dy1' is not defined",
     "output_type": "error",
     "traceback": [
      "\u001b[0;31m---------------------------------------------------------------------------\u001b[0m",
      "\u001b[0;31mNameError\u001b[0m                                 Traceback (most recent call last)",
      "Cell \u001b[0;32mIn [13], line 4\u001b[0m\n\u001b[1;32m      1\u001b[0m \u001b[38;5;66;03m# 要素削除とガベージコレクター\u001b[39;00m\n\u001b[1;32m      2\u001b[0m \u001b[38;5;28;01mimport\u001b[39;00m \u001b[38;5;21;01mgc\u001b[39;00m\n\u001b[0;32m----> 4\u001b[0m \u001b[38;5;28;01mdel\u001b[39;00m data_mean_10dy1,data_mean_10dy3,data_mean_10dy2\n\u001b[1;32m      5\u001b[0m \u001b[38;5;28;01mdel\u001b[39;00m month10dy,pratenc,prateyear,temp\n\u001b[1;32m      7\u001b[0m gc\u001b[38;5;241m.\u001b[39mcollect()\n",
      "\u001b[0;31mNameError\u001b[0m: name 'data_mean_10dy1' is not defined"
     ]
    }
   ],
   "source": [
    "# 要素削除とガベージコレクター\n",
    "import gc\n",
    "\n",
    "del data_mean_10dy1,data_mean_10dy3,data_mean_10dy2\n",
    "del month10dy,pratenc,prateyear,temp\n",
    "\n",
    "gc.collect()"
   ]
  },
  {
   "cell_type": "code",
   "execution_count": 14,
   "id": "94afcc42",
   "metadata": {
    "ExecuteTime": {
     "end_time": "2022-12-28T07:56:31.211365Z",
     "start_time": "2022-12-28T07:55:56.114161Z"
    }
   },
   "outputs": [
    {
     "name": "stdout",
     "output_type": "stream",
     "text": [
      "end\n"
     ]
    }
   ],
   "source": [
    "# 上と同様にlhtfl.sfc.gauss.XXXX.ncを読み込んでバイナリファイルlhtfl10dy.datに保存\n",
    "lhtflyear = xr.DataArray()\n",
    "with open('lhtfl10dy.dat',mode='a') as f:\n",
    "    for year in range(1948,2022): # 1948-2021\n",
    "        month10dy = xr.DataArray(np.zeros((3,94,192))) # コピー用の配列を初期化\n",
    "        lhtflnc = '01_ESTOC_ForcingData/NCEP_NCAR_Forcing/NCEP/lhtfl.sfc.gauss.'+str(year)+'.nc'\n",
    "        lhtflnc = xr.open_dataset(lhtflnc)['lhtfl'].load()\n",
    "        for x in month:\n",
    "            # 範囲指定用の文字列構成\n",
    "            start1 = str(year) + '-' + str(x) + '-1'\n",
    "            end1 = str(year) + '-' + str(x) + '-10'\n",
    "            start2 = str(year) + '-' + str(x) + '-11'\n",
    "            end2 = str(year) + '-' + str(x) + '-20'\n",
    "            start3 = str(year) + '-' + str(x) + '-21'\n",
    "    \n",
    "            if x == 12:\n",
    "                nextmonth = 1\n",
    "                lastday = str(year+1) + '-' + str(nextmonth) + '-1'\n",
    "            else:\n",
    "                nextmonth = x + 1\n",
    "                lastday = str(year) + '-' + str(nextmonth) + '-1'\n",
    "\n",
    "            end3 = datetime.datetime.strptime(lastday,'%Y-%m-%d') - datetime.timedelta(days = 1)\n",
    "            end3 = end3.strftime('%Y-%m-%d')\n",
    "\n",
    "            # 上中下旬に分けて平均を取る（とりあえずmean重みなし）\n",
    "            data_mean_10dy1 = lhtflnc.loc[start1:end1].mean(dim='time')\n",
    "            data_mean_10dy2 = lhtflnc.loc[start2:end2].mean(dim='time')\n",
    "            data_mean_10dy3 = lhtflnc.loc[start3:end3].mean(dim='time')\n",
    "\n",
    "            #月毎に10日区切りで3つ作ったら保存用の配列に代入\n",
    "            temp = np.stack([data_mean_10dy1,data_mean_10dy2,data_mean_10dy3],0) # tempは1ヶ月分\n",
    "            month10dy = np.append(month10dy,temp,axis=0) # 1ヶ月分のtempを順番にappendしていく（70年分）\n",
    "\n",
    "            lhtflyear = month10dy[3:] # 最初の3つは0なので消しておく\n",
    "# どんどん遅くなるので一旦バイナリファイルとして保存\n",
    "# インデント注意\n",
    "        lhtflyear.tofile(f)\n",
    "\n",
    "\n",
    "print ('end')"
   ]
  },
  {
   "cell_type": "code",
   "execution_count": 4,
   "id": "e6b0e83f",
   "metadata": {
    "ExecuteTime": {
     "end_time": "2022-12-23T11:56:21.742231Z",
     "start_time": "2022-12-23T11:56:21.693683Z"
    }
   },
   "outputs": [
    {
     "data": {
      "text/plain": [
       "432"
      ]
     },
     "execution_count": 4,
     "metadata": {},
     "output_type": "execute_result"
    }
   ],
   "source": [
    "# gabage collcter\n",
    "del data_mean_10dy1,data_mean_10dy3,data_mean_10dy2\n",
    "del lhtflyear\n",
    "del month10dy,temp\n",
    "gc.collect()"
   ]
  },
  {
   "cell_type": "code",
   "execution_count": 5,
   "id": "894e4319",
   "metadata": {
    "ExecuteTime": {
     "end_time": "2022-12-23T11:56:55.695232Z",
     "start_time": "2022-12-23T11:56:22.533987Z"
    }
   },
   "outputs": [
    {
     "name": "stdout",
     "output_type": "stream",
     "text": [
      "end\n"
     ]
    }
   ],
   "source": [
    "# dswrf.sfc.gauss.XXXX.ncを読み込んで１０日平均を取ってバイナリファイルに一度保存\n",
    "dswrfyear = dlwrfyear = uswrfyear = ulwrfyear = shtflyear = uflxyear = vflxyear = xr.DataArray()\n",
    "with open('dswrf10dy.dat',mode='a') as f:\n",
    "    for year in range(1948,2022): # 1948-2021\n",
    "        month10dy = xr.DataArray(np.zeros((3,94,192))) # コピー用の配列を初期化\n",
    "        dswrfnc = '01_ESTOC_ForcingData/NCEP_NCAR_Forcing/NCEP/dswrf.sfc.gauss.'+str(year)+'.nc'\n",
    "        dswrfnc = xr.open_dataset(dswrfnc)['dswrf'].load()\n",
    "        for x in month:\n",
    "            # 範囲指定用の文字列構成\n",
    "            start1 = str(year) + '-' + str(x) + '-1'\n",
    "            end1 = str(year) + '-' + str(x) + '-10'\n",
    "            start2 = str(year) + '-' + str(x) + '-11'\n",
    "            end2 = str(year) + '-' + str(x) + '-20'\n",
    "            start3 = str(year) + '-' + str(x) + '-21'\n",
    "    \n",
    "            if x == 12:\n",
    "                nextmonth = 1\n",
    "                lastday = str(year+1) + '-' + str(nextmonth) + '-1'\n",
    "            else:\n",
    "                nextmonth = x + 1\n",
    "                lastday = str(year) + '-' + str(nextmonth) + '-1'\n",
    "\n",
    "            end3 = datetime.datetime.strptime(lastday,'%Y-%m-%d') - datetime.timedelta(days = 1)\n",
    "            end3 = end3.strftime('%Y-%m-%d')\n",
    "\n",
    "            # 上中下旬に分けて平均を取る（とりあえずmean重みなし）\n",
    "            data_mean_10dy1 = dswrfnc.loc[start1:end1].mean(dim='time')\n",
    "            data_mean_10dy2 = dswrfnc.loc[start2:end2].mean(dim='time')\n",
    "            data_mean_10dy3 = dswrfnc.loc[start3:end3].mean(dim='time')\n",
    "\n",
    "            #月毎に10日区切りで3つ作ったら保存用の配列に代入\n",
    "            temp = np.stack([data_mean_10dy1,data_mean_10dy2,data_mean_10dy3],0) # tempは1ヶ月分\n",
    "            month10dy = np.append(month10dy,temp,axis=0) # 1ヶ月分のtempを順番にappendしていく（70年分）\n",
    "    \n",
    "            dswrfyear= month10dy[3:] # 最初の3つは0なので消しておく\n",
    "        dswrfyear.tofile(f)\n",
    "\n",
    "print('end')"
   ]
  },
  {
   "cell_type": "code",
   "execution_count": 6,
   "id": "9610f203",
   "metadata": {
    "ExecuteTime": {
     "end_time": "2022-12-23T11:56:57.986483Z",
     "start_time": "2022-12-23T11:56:57.941236Z"
    }
   },
   "outputs": [
    {
     "data": {
      "text/plain": [
       "420"
      ]
     },
     "execution_count": 6,
     "metadata": {},
     "output_type": "execute_result"
    }
   ],
   "source": [
    "# gabage collecter\n",
    "del data_mean_10dy1,data_mean_10dy3,data_mean_10dy2\n",
    "del dswrfyear\n",
    "del month10dy,temp\n",
    "gc.collect()"
   ]
  },
  {
   "cell_type": "code",
   "execution_count": 7,
   "id": "95c327b2",
   "metadata": {
    "ExecuteTime": {
     "end_time": "2022-12-23T11:57:30.130566Z",
     "start_time": "2022-12-23T11:56:58.845022Z"
    }
   },
   "outputs": [
    {
     "name": "stdout",
     "output_type": "stream",
     "text": [
      "end\n"
     ]
    }
   ],
   "source": [
    "# dlwrf.sfc.gauss.XXXX.ncファイルを読んで１０日平均を取ってバイナリファイルに保存\n",
    "with open('dlwrf10dy.dat',mode='a') as f:\n",
    "    for year in range(1948,2022): # 1948-2021\n",
    "        month10dy = xr.DataArray(np.zeros((3,94,192))) # コピー用の配列を初期化\n",
    "        dlwrfnc = '01_ESTOC_ForcingData/NCEP_NCAR_Forcing/NCEP/dlwrf.sfc.gauss.'+str(year)+'.nc'\n",
    "        dlwrfnc = xr.open_dataset(dlwrfnc)['dlwrf'].load()\n",
    "    \n",
    "        for x in month:\n",
    "            # 範囲指定用の文字列構成\n",
    "            start1 = str(year) + '-' + str(x) + '-1'\n",
    "            end1 = str(year) + '-' + str(x) + '-10'\n",
    "            start2 = str(year) + '-' + str(x) + '-11'\n",
    "            end2 = str(year) + '-' + str(x) + '-20'\n",
    "            start3 = str(year) + '-' + str(x) + '-21'\n",
    "    \n",
    "            if x == 12:\n",
    "                nextmonth = 1\n",
    "                lastday = str(year+1) + '-' + str(nextmonth) + '-1'\n",
    "            else:\n",
    "                nextmonth = x + 1\n",
    "                lastday = str(year) + '-' + str(nextmonth) + '-1'\n",
    "\n",
    "            end3 = datetime.datetime.strptime(lastday,'%Y-%m-%d') - datetime.timedelta(days = 1)\n",
    "            end3 = end3.strftime('%Y-%m-%d')\n",
    "\n",
    "            # 上中下旬に分けて平均を取る（とりあえずmean重みなし）\n",
    "            data_mean_10dy1 = dlwrfnc.loc[start1:end1].mean(dim='time')\n",
    "            data_mean_10dy2 = dlwrfnc.loc[start2:end2].mean(dim='time')\n",
    "            data_mean_10dy3 = dlwrfnc.loc[start3:end3].mean(dim='time')\n",
    "\n",
    "            #月毎に10日区切りで3つ作ったら保存用の配列に代入\n",
    "            temp = np.stack([data_mean_10dy1,data_mean_10dy2,data_mean_10dy3],0) # tempは1ヶ月分\n",
    "            month10dy = np.append(month10dy,temp,axis=0) # 1ヶ月分のtempを順番にappendしていく（70年分）\n",
    "    \n",
    "            dlwrfyear= month10dy[3:] # 最初の3つは0なので消しておく\n",
    "        dlwrfyear.tofile(f)\n",
    "\n",
    "print('end')"
   ]
  },
  {
   "cell_type": "code",
   "execution_count": 8,
   "id": "f6f916a8",
   "metadata": {
    "ExecuteTime": {
     "end_time": "2022-12-23T11:57:32.521743Z",
     "start_time": "2022-12-23T11:57:32.476569Z"
    }
   },
   "outputs": [
    {
     "data": {
      "text/plain": [
       "444"
      ]
     },
     "execution_count": 8,
     "metadata": {},
     "output_type": "execute_result"
    }
   ],
   "source": [
    "# gabage collecter\n",
    "del data_mean_10dy1,data_mean_10dy3,data_mean_10dy2\n",
    "del dlwrfyear\n",
    "del month10dy,temp\n",
    "gc.collect()"
   ]
  },
  {
   "cell_type": "code",
   "execution_count": 9,
   "id": "f536f358",
   "metadata": {
    "ExecuteTime": {
     "end_time": "2022-12-23T11:58:06.268879Z",
     "start_time": "2022-12-23T11:57:33.148677Z"
    }
   },
   "outputs": [
    {
     "name": "stdout",
     "output_type": "stream",
     "text": [
      "end\n"
     ]
    }
   ],
   "source": [
    "# ulwrf.sfc.gauss.XXXX.ncファイルを読んで１０日平均を取ってバイナリファイルに保存\n",
    "with open('ulwrf10dy.dat',mode='a') as f:\n",
    "    for year in range(1948,2022): # 1948-2021\n",
    "        month10dy = xr.DataArray(np.zeros((3,94,192))) # コピー用の配列を初期化\n",
    "        ulwrfnc = '01_ESTOC_ForcingData/NCEP_NCAR_Forcing/NCEP/ulwrf.sfc.gauss.'+str(year)+'.nc'\n",
    "        ulwrfnc = xr.open_dataset(ulwrfnc)['ulwrf'].load()\n",
    "    \n",
    "        for x in month:\n",
    "            # 範囲指定用の文字列構成\n",
    "            start1 = str(year) + '-' + str(x) + '-1'\n",
    "            end1 = str(year) + '-' + str(x) + '-10'\n",
    "            start2 = str(year) + '-' + str(x) + '-11'\n",
    "            end2 = str(year) + '-' + str(x) + '-20'\n",
    "            start3 = str(year) + '-' + str(x) + '-21'\n",
    "    \n",
    "            if x == 12:\n",
    "                nextmonth = 1\n",
    "                lastday = str(year+1) + '-' + str(nextmonth) + '-1'\n",
    "            else:\n",
    "                nextmonth = x + 1\n",
    "                lastday = str(year) + '-' + str(nextmonth) + '-1'\n",
    "\n",
    "            end3 = datetime.datetime.strptime(lastday,'%Y-%m-%d') - datetime.timedelta(days = 1)\n",
    "            end3 = end3.strftime('%Y-%m-%d')\n",
    "\n",
    "            # 上中下旬に分けて平均を取る（とりあえずmean重みなし）\n",
    "            data_mean_10dy1 = ulwrfnc.loc[start1:end1].mean(dim='time')\n",
    "            data_mean_10dy2 = ulwrfnc.loc[start2:end2].mean(dim='time')\n",
    "            data_mean_10dy3 = ulwrfnc.loc[start3:end3].mean(dim='time')\n",
    "\n",
    "            #月毎に10日区切りで3つ作ったら保存用の配列に代入\n",
    "            temp = np.stack([data_mean_10dy1,data_mean_10dy2,data_mean_10dy3],0) # tempは1ヶ月分\n",
    "            month10dy = np.append(month10dy,temp,axis=0) # 1ヶ月分のtempを順番にappendしていく（70年分）\n",
    "    \n",
    "            ulwrfyear= month10dy[3:] # 最初の3つは0なので消しておく\n",
    "        ulwrfyear.tofile(f)\n",
    "\n",
    "print('end')"
   ]
  },
  {
   "cell_type": "code",
   "execution_count": 10,
   "id": "a6196fbf",
   "metadata": {
    "ExecuteTime": {
     "end_time": "2022-12-23T11:58:10.417172Z",
     "start_time": "2022-12-23T11:58:10.372046Z"
    }
   },
   "outputs": [
    {
     "data": {
      "text/plain": [
       "60"
      ]
     },
     "execution_count": 10,
     "metadata": {},
     "output_type": "execute_result"
    }
   ],
   "source": [
    "# gabage collecter\n",
    "del data_mean_10dy1,data_mean_10dy3,data_mean_10dy2\n",
    "del ulwrfyear\n",
    "del month10dy,temp\n",
    "gc.collect()"
   ]
  },
  {
   "cell_type": "code",
   "execution_count": 11,
   "id": "0fb75812",
   "metadata": {
    "ExecuteTime": {
     "end_time": "2022-12-23T11:58:46.315806Z",
     "start_time": "2022-12-23T11:58:12.627857Z"
    }
   },
   "outputs": [
    {
     "name": "stdout",
     "output_type": "stream",
     "text": [
      "end\n"
     ]
    }
   ],
   "source": [
    "# uswrf.sfc.gauss.XXXX.ncフィアルを読んで１０日平均を取ってバイナリファイルに保存\n",
    "with open('uswrf10dy.dat',mode='a') as f:\n",
    "    for year in range(1948,2022): # 1948-2021\n",
    "        month10dy = xr.DataArray(np.zeros((3,94,192))) # コピー用の配列を初期化\n",
    "        uswrfnc = '01_ESTOC_ForcingData/NCEP_NCAR_Forcing/NCEP/uswrf.sfc.gauss.'+str(year)+'.nc'\n",
    "        uswrfnc = xr.open_dataset(uswrfnc)['uswrf'].load()\n",
    "    \n",
    "        for x in month:\n",
    "            # 範囲指定用の文字列構成\n",
    "            start1 = str(year) + '-' + str(x) + '-1'\n",
    "            end1 = str(year) + '-' + str(x) + '-10'\n",
    "            start2 = str(year) + '-' + str(x) + '-11'\n",
    "            end2 = str(year) + '-' + str(x) + '-20'\n",
    "            start3 = str(year) + '-' + str(x) + '-21'\n",
    "    \n",
    "            if x == 12:\n",
    "                nextmonth = 1\n",
    "                lastday = str(year+1) + '-' + str(nextmonth) + '-1'\n",
    "            else:\n",
    "                nextmonth = x + 1\n",
    "                lastday = str(year) + '-' + str(nextmonth) + '-1'\n",
    "\n",
    "            end3 = datetime.datetime.strptime(lastday,'%Y-%m-%d') - datetime.timedelta(days = 1)\n",
    "            end3 = end3.strftime('%Y-%m-%d')\n",
    "\n",
    "            # 上中下旬に分けて平均を取る（とりあえずmean重みなし）\n",
    "            data_mean_10dy1 = uswrfnc.loc[start1:end1].mean(dim='time')\n",
    "            data_mean_10dy2 = uswrfnc.loc[start2:end2].mean(dim='time')\n",
    "            data_mean_10dy3 = uswrfnc.loc[start3:end3].mean(dim='time')\n",
    "\n",
    "            #月毎に10日区切りで3つ作ったら保存用の配列に代入\n",
    "            temp = np.stack([data_mean_10dy1,data_mean_10dy2,data_mean_10dy3],0) # tempは1ヶ月分\n",
    "            month10dy = np.append(month10dy,temp,axis=0) # 1ヶ月分のtempを順番にappendしていく（70年分）\n",
    "    \n",
    "            uswrfyear= month10dy[3:] # 最初の3つは0なので消しておく\n",
    "        uswrfyear.tofile(f)\n",
    "\n",
    "print('end')"
   ]
  },
  {
   "cell_type": "code",
   "execution_count": 12,
   "id": "9c23a73b",
   "metadata": {
    "ExecuteTime": {
     "end_time": "2022-12-23T11:58:48.616866Z",
     "start_time": "2022-12-23T11:58:48.571534Z"
    }
   },
   "outputs": [
    {
     "data": {
      "text/plain": [
       "60"
      ]
     },
     "execution_count": 12,
     "metadata": {},
     "output_type": "execute_result"
    }
   ],
   "source": [
    "# gabage collecter\n",
    "del data_mean_10dy1,data_mean_10dy3,data_mean_10dy2\n",
    "del uswrfyear\n",
    "del month10dy,temp\n",
    "gc.collect()"
   ]
  },
  {
   "cell_type": "code",
   "execution_count": 13,
   "id": "ffb4bab4",
   "metadata": {
    "ExecuteTime": {
     "end_time": "2022-12-23T11:59:19.942199Z",
     "start_time": "2022-12-23T11:58:49.491340Z"
    }
   },
   "outputs": [
    {
     "name": "stdout",
     "output_type": "stream",
     "text": [
      "end\n"
     ]
    }
   ],
   "source": [
    "# shtfl.sfc.gauss.XXXX.ncファイルを読んで１０日平均を取ってバイナリファイルに保存\n",
    "with open('shtfl10dy.dat',mode='a') as f:\n",
    "    for year in range(1948,2022): # 1948-2021\n",
    "        month10dy = xr.DataArray(np.zeros((3,94,192))) # コピー用の配列を初期化\n",
    "        shtflnc = '01_ESTOC_ForcingData/NCEP_NCAR_Forcing/NCEP/shtfl.sfc.gauss.'+str(year)+'.nc'\n",
    "        shtflnc = xr.open_dataset(shtflnc)['shtfl'].load()\n",
    "    \n",
    "        for x in month:\n",
    "            # 範囲指定用の文字列構成\n",
    "            start1 = str(year) + '-' + str(x) + '-1'\n",
    "            end1 = str(year) + '-' + str(x) + '-10'\n",
    "            start2 = str(year) + '-' + str(x) + '-11'\n",
    "            end2 = str(year) + '-' + str(x) + '-20'\n",
    "            start3 = str(year) + '-' + str(x) + '-21'\n",
    "    \n",
    "            if x == 12:\n",
    "                nextmonth = 1\n",
    "                lastday = str(year+1) + '-' + str(nextmonth) + '-1'\n",
    "            else:\n",
    "                nextmonth = x + 1\n",
    "                lastday = str(year) + '-' + str(nextmonth) + '-1'\n",
    "\n",
    "            end3 = datetime.datetime.strptime(lastday,'%Y-%m-%d') - datetime.timedelta(days = 1)\n",
    "            end3 = end3.strftime('%Y-%m-%d')\n",
    "\n",
    "            # 上中下旬に分けて平均を取る（とりあえずmean重みなし）\n",
    "            data_mean_10dy1 = shtflnc.loc[start1:end1].mean(dim='time')\n",
    "            data_mean_10dy2 = shtflnc.loc[start2:end2].mean(dim='time')\n",
    "            data_mean_10dy3 = shtflnc.loc[start3:end3].mean(dim='time')\n",
    "\n",
    "            #月毎に10日区切りで3つ作ったら保存用の配列に代入\n",
    "            temp = np.stack([data_mean_10dy1,data_mean_10dy2,data_mean_10dy3],0) # tempは1ヶ月分\n",
    "            month10dy = np.append(month10dy,temp,axis=0) # 1ヶ月分のtempを順番にappendしていく（70年分）\n",
    "    \n",
    "            shtflyear= month10dy[3:] # 最初の3つは0なので消しておく\n",
    "        shtflyear.tofile(f)\n",
    "\n",
    "print('end')"
   ]
  },
  {
   "cell_type": "code",
   "execution_count": 14,
   "id": "a8ec85f5",
   "metadata": {
    "ExecuteTime": {
     "end_time": "2022-12-23T11:59:21.873754Z",
     "start_time": "2022-12-23T11:59:21.827034Z"
    }
   },
   "outputs": [
    {
     "data": {
      "text/plain": [
       "72"
      ]
     },
     "execution_count": 14,
     "metadata": {},
     "output_type": "execute_result"
    }
   ],
   "source": [
    "# gabage collecter\n",
    "del data_mean_10dy1,data_mean_10dy3,data_mean_10dy2\n",
    "del shtflyear\n",
    "del month10dy,temp\n",
    "gc.collect()"
   ]
  },
  {
   "cell_type": "code",
   "execution_count": 15,
   "id": "bedb7e25",
   "metadata": {
    "ExecuteTime": {
     "end_time": "2022-12-23T11:59:59.967893Z",
     "start_time": "2022-12-23T11:59:22.674813Z"
    }
   },
   "outputs": [
    {
     "name": "stdout",
     "output_type": "stream",
     "text": [
      "end\n"
     ]
    }
   ],
   "source": [
    "# uflx.sfc.gauss.XXXX.ncファイルを読んで１０日平均を取ってバイナリファイルに保存\n",
    "with open('uflx10dy.dat',mode='a') as f:\n",
    "    for year in range(1948,2022): # 1948-2021\n",
    "        month10dy = xr.DataArray(np.zeros((3,94,192))) # コピー用の配列を初期化\n",
    "        uflxnc = '01_ESTOC_ForcingData/NCEP_NCAR_Forcing/NCEP/uflx.sfc.gauss.'+str(year)+'.nc'\n",
    "        uflxnc = xr.open_dataset(uflxnc)['uflx'].load()\n",
    "    \n",
    "        for x in month:\n",
    "            # 範囲指定用の文字列構成\n",
    "            start1 = str(year) + '-' + str(x) + '-1'\n",
    "            end1 = str(year) + '-' + str(x) + '-10'\n",
    "            start2 = str(year) + '-' + str(x) + '-11'\n",
    "            end2 = str(year) + '-' + str(x) + '-20'\n",
    "            start3 = str(year) + '-' + str(x) + '-21'\n",
    "    \n",
    "            if x == 12:\n",
    "                nextmonth = 1\n",
    "                lastday = str(year+1) + '-' + str(nextmonth) + '-1'\n",
    "            else:\n",
    "                nextmonth = x + 1\n",
    "                lastday = str(year) + '-' + str(nextmonth) + '-1'\n",
    "\n",
    "            end3 = datetime.datetime.strptime(lastday,'%Y-%m-%d') - datetime.timedelta(days = 1)\n",
    "            end3 = end3.strftime('%Y-%m-%d')\n",
    "\n",
    "            # 上中下旬に分けて平均を取る（とりあえずmean重みなし）\n",
    "            data_mean_10dy1 = uflxnc.loc[start1:end1].mean(dim='time')\n",
    "            data_mean_10dy2 = uflxnc.loc[start2:end2].mean(dim='time')\n",
    "            data_mean_10dy3 = uflxnc.loc[start3:end3].mean(dim='time')\n",
    "\n",
    "            #月毎に10日区切りで3つ作ったら保存用の配列に代入\n",
    "            temp = np.stack([data_mean_10dy1,data_mean_10dy2,data_mean_10dy3],0) # tempは1ヶ月分\n",
    "            month10dy = np.append(month10dy,temp,axis=0) # 1ヶ月分のtempを順番にappendしていく（70年分）\n",
    "    \n",
    "            uflxyear= month10dy[3:] # 最初の3つは0なので消しておく\n",
    "        uflxyear.tofile(f)\n",
    "\n",
    "print('end')"
   ]
  },
  {
   "cell_type": "code",
   "execution_count": 16,
   "id": "48286f17",
   "metadata": {
    "ExecuteTime": {
     "end_time": "2022-12-23T12:00:03.470851Z",
     "start_time": "2022-12-23T12:00:03.425950Z"
    }
   },
   "outputs": [
    {
     "data": {
      "text/plain": [
       "60"
      ]
     },
     "execution_count": 16,
     "metadata": {},
     "output_type": "execute_result"
    }
   ],
   "source": [
    "# gabage collecter\n",
    "del data_mean_10dy1,data_mean_10dy3,data_mean_10dy2\n",
    "del uflxyear\n",
    "del month10dy,temp\n",
    "gc.collect()"
   ]
  },
  {
   "cell_type": "code",
   "execution_count": 17,
   "id": "6c0e584c",
   "metadata": {
    "ExecuteTime": {
     "end_time": "2022-12-23T12:00:39.673722Z",
     "start_time": "2022-12-23T12:00:04.217890Z"
    }
   },
   "outputs": [
    {
     "name": "stdout",
     "output_type": "stream",
     "text": [
      "end\n"
     ]
    }
   ],
   "source": [
    "# vflx.sfc.gauss.XXXX.ncファイルを読んで１０日平均を取ってバイナリファイルに保存\n",
    "with open('vflx10dy.dat',mode='a') as f:\n",
    "    for year in range(1948,2022): # 1948-2021\n",
    "        month10dy = xr.DataArray(np.zeros((3,94,192))) # コピー用の配列を初期化\n",
    "        vflxnc = '01_ESTOC_ForcingData/NCEP_NCAR_Forcing/NCEP/vflx.sfc.gauss.'+str(year)+'.nc'\n",
    "        vflxnc = xr.open_dataset(vflxnc)['vflx'].load()\n",
    "    \n",
    "        for x in month:\n",
    "            # 範囲指定用の文字列構成\n",
    "            start1 = str(year) + '-' + str(x) + '-1'\n",
    "            end1 = str(year) + '-' + str(x) + '-10'\n",
    "            start2 = str(year) + '-' + str(x) + '-11'\n",
    "            end2 = str(year) + '-' + str(x) + '-20'\n",
    "            start3 = str(year) + '-' + str(x) + '-21'\n",
    "    \n",
    "            if x == 12:\n",
    "                nextmonth = 1\n",
    "                lastday = str(year+1) + '-' + str(nextmonth) + '-1'\n",
    "            else:\n",
    "                nextmonth = x + 1\n",
    "                lastday = str(year) + '-' + str(nextmonth) + '-1'\n",
    "\n",
    "            end3 = datetime.datetime.strptime(lastday,'%Y-%m-%d') - datetime.timedelta(days = 1)\n",
    "            end3 = end3.strftime('%Y-%m-%d')\n",
    "\n",
    "            # 上中下旬に分けて平均を取る（とりあえずmean重みなし）\n",
    "            data_mean_10dy1 = vflxnc.loc[start1:end1].mean(dim='time')\n",
    "            data_mean_10dy2 = vflxnc.loc[start2:end2].mean(dim='time')\n",
    "            data_mean_10dy3 = vflxnc.loc[start3:end3].mean(dim='time')\n",
    "\n",
    "            #月毎に10日区切りで3つ作ったら保存用の配列に代入\n",
    "            temp = np.stack([data_mean_10dy1,data_mean_10dy2,data_mean_10dy3],0) # tempは1ヶ月分\n",
    "            month10dy = np.append(month10dy,temp,axis=0) # 1ヶ月分のtempを順番にappendしていく（70年分）\n",
    "    \n",
    "            vflxncyear= month10dy[3:] # 最初の3つは0なので消しておく\n",
    "        vflxncyear.tofile(f)\n",
    "\n",
    "print('end')"
   ]
  },
  {
   "cell_type": "code",
   "execution_count": 18,
   "id": "858d04d3",
   "metadata": {
    "ExecuteTime": {
     "end_time": "2022-12-23T12:00:42.981998Z",
     "start_time": "2022-12-23T12:00:42.937557Z"
    }
   },
   "outputs": [
    {
     "data": {
      "text/plain": [
       "60"
      ]
     },
     "execution_count": 18,
     "metadata": {},
     "output_type": "execute_result"
    }
   ],
   "source": [
    "# gabage collecter\n",
    "del data_mean_10dy1,data_mean_10dy3,data_mean_10dy2\n",
    "del vflxyear\n",
    "del month10dy,temp\n",
    "gc.collect()"
   ]
  },
  {
   "cell_type": "code",
   "execution_count": 28,
   "id": "b64cb13c",
   "metadata": {
    "ExecuteTime": {
     "end_time": "2022-10-12T02:52:32.347210Z",
     "start_time": "2022-10-12T02:52:32.344625Z"
    }
   },
   "outputs": [],
   "source": [
    "# この時点で必要なデータ\n",
    "#####\n",
    "# 10日平均の9ファイル\n",
    "# shapeは(36,94,192) 1ヶ月を10日区切りで\n",
    "# dlwrf10dy.dat , dswrf10dy.dat , lhtfl10dy.dat\n",
    "# prate10dy.dat , shtfl10dy.dat , uflx10dy.dat\n",
    "# ulwrf10dy.dat , uswrf10dy.dat , vflx10dy.dat \n",
    "#####\n",
    "# land.06.ft.bigファイルを読み込んだ land (94,192)\n",
    "# prev_climate7902.nc2.bigを読み込んだ climate (12,94,192)\n",
    "\n"
   ]
  },
  {
   "cell_type": "code",
   "execution_count": 16,
   "id": "300d10ef",
   "metadata": {
    "ExecuteTime": {
     "end_time": "2022-09-28T07:52:43.724615Z",
     "start_time": "2022-09-28T07:52:43.714113Z"
    }
   },
   "outputs": [],
   "source": [
    "hoge = np.fromfile('dlwrf10dy.dat').reshape(36,94,192)\n"
   ]
  },
  {
   "cell_type": "code",
   "execution_count": 2,
   "id": "8090d49b",
   "metadata": {
    "ExecuteTime": {
     "end_time": "2022-06-21T02:26:38.303366Z",
     "start_time": "2022-06-21T02:26:36.200012Z"
    }
   },
   "outputs": [],
   "source": [
    "# 全期間を１ヶ月毎にスライスしておく\n",
    "# 後ほど作画のために必要な部分\n",
    "Jan = xr.DataArray(np.zeros((3,94,192)))\n",
    "Feb=Mer=Apr=May=Jun=Jul=Aug=Sep=Oct=Nov=Dec = xr.DataArray(np.zeros((3,94,192)))\n",
    "\n",
    "for i in range(70):\n",
    "    if i == 0:\n",
    "        temp = lhtflyear[0:3]\n",
    "        temp2 = lhtflyear[3:3]\n",
    "        temp3 = lhtflyear[6:3]\n",
    "        temp4 = lhtflyear[9:3]\n",
    "        temp5 = lhtflyear[12:3]\n",
    "        temp6 = lhtflyear[15:3]\n",
    "        temp7 = lhtflyear[18:3]\n",
    "        temp8 = lhtflyear[21:3]\n",
    "        temp9 = lhtflyear[24:3]\n",
    "        tempa = lhtflyear[27:3]\n",
    "        tempb = lhtflyear[30:3]\n",
    "        tempc= lhtflyear[33:3]\n",
    "    else:\n",
    "        temp = lhtflyear[(i*36):(i*36+3)]\n",
    "        temp2 = lhtflyear[(3+ i*36):(3+ i*36+3)]\n",
    "        temp3 = lhtflyear[(6+ i*36):(6+ i*36+3)]\n",
    "        temp4 = lhtflyear[(9+ i*36):(9+ i*36+3)]\n",
    "        temp5 = lhtflyear[(12+ i*36):(12+ i*36+3)]\n",
    "        temp6 = lhtflyear[(15+ i*36):(15+ i*36+3)]\n",
    "        temp7 = lhtflyear[(18+ i*36):(18+ i*36+3)]\n",
    "        temp8 = lhtflyear[(21+ i*36):(21+ i*36+3)]\n",
    "        temp9 = lhtflyear[(24+ i*36):(24+ i*36+3)]\n",
    "        tempa = lhtflyear[(27+ i*36):(27+ i*36+3)]\n",
    "        tempb = lhtflyear[(30+ i*36):(30+ i*36+3)]\n",
    "        tempc = lhtflyear[(33+ i*36):(33+ i*36+3)]\n",
    "\n",
    "    Jan = np.append(Jan,temp,axis=0)\n",
    "    Feb = np.append(Feb,temp2,axis=0)\n",
    "    Mer = np.append(Mer,temp3,axis=0)\n",
    "    Apr = np.append(Apr,temp4,axis=0)\n",
    "    May = np.append(May,temp5,axis=0)\n",
    "    Jun = np.append(Jun,temp6,axis=0)\n",
    "    Jul = np.append(Jul,temp7,axis=0)\n",
    "    Aug = np.append(Aug,temp8,axis=0)\n",
    "    Sep = np.append(Sep,temp9,axis=0)\n",
    "    Oct = np.append(Oct,tempa,axis=0)\n",
    "    Nov = np.append(Nov,tempb,axis=0)\n",
    "    Dec = np.append(Dec,tempc,axis=0)\n"
   ]
  },
  {
   "cell_type": "code",
   "execution_count": 13,
   "id": "448b953c",
   "metadata": {
    "ExecuteTime": {
     "end_time": "2022-06-21T01:19:15.263051Z",
     "start_time": "2022-06-21T01:19:15.219925Z"
    }
   },
   "outputs": [
    {
     "ename": "ValueError",
     "evalue": "x and y arrays must be equal in length along interpolation axis.",
     "output_type": "error",
     "traceback": [
      "\u001b[0;31m---------------------------------------------------------------------------\u001b[0m",
      "\u001b[0;31mValueError\u001b[0m                                Traceback (most recent call last)",
      "Input \u001b[0;32mIn [13]\u001b[0m, in \u001b[0;36m<cell line: 5>\u001b[0;34m()\u001b[0m\n\u001b[1;32m      1\u001b[0m \u001b[38;5;28;01mfrom\u001b[39;00m \u001b[38;5;21;01mscipy\u001b[39;00m \u001b[38;5;28;01mimport\u001b[39;00m interpolate\n\u001b[1;32m      3\u001b[0m y \u001b[38;5;241m=\u001b[39m np\u001b[38;5;241m.\u001b[39marange(\u001b[38;5;241m210\u001b[39m)\n\u001b[0;32m----> 5\u001b[0m \u001b[43minterpolate\u001b[49m\u001b[38;5;241;43m.\u001b[39;49m\u001b[43minterp1d\u001b[49m\u001b[43m(\u001b[49m\u001b[43my\u001b[49m\u001b[43m,\u001b[49m\u001b[43mJan\u001b[49m\u001b[43m[\u001b[49m\u001b[43m:\u001b[49m\u001b[43m,\u001b[49m\u001b[38;5;241;43m0\u001b[39;49m\u001b[43m,\u001b[49m\u001b[38;5;241;43m0\u001b[39;49m\u001b[43m]\u001b[49m\u001b[43m)\u001b[49m\n",
      "File \u001b[0;32m~/anaconda3/lib/python3.8/site-packages/scipy/interpolate/interpolate.py:436\u001b[0m, in \u001b[0;36minterp1d.__init__\u001b[0;34m(self, x, y, kind, axis, copy, bounds_error, fill_value, assume_sorted)\u001b[0m\n\u001b[1;32m    432\u001b[0m \u001b[38;5;28;01mdef\u001b[39;00m \u001b[38;5;21m__init__\u001b[39m(\u001b[38;5;28mself\u001b[39m, x, y, kind\u001b[38;5;241m=\u001b[39m\u001b[38;5;124m'\u001b[39m\u001b[38;5;124mlinear\u001b[39m\u001b[38;5;124m'\u001b[39m, axis\u001b[38;5;241m=\u001b[39m\u001b[38;5;241m-\u001b[39m\u001b[38;5;241m1\u001b[39m,\n\u001b[1;32m    433\u001b[0m              copy\u001b[38;5;241m=\u001b[39m\u001b[38;5;28;01mTrue\u001b[39;00m, bounds_error\u001b[38;5;241m=\u001b[39m\u001b[38;5;28;01mNone\u001b[39;00m, fill_value\u001b[38;5;241m=\u001b[39mnp\u001b[38;5;241m.\u001b[39mnan,\n\u001b[1;32m    434\u001b[0m              assume_sorted\u001b[38;5;241m=\u001b[39m\u001b[38;5;28;01mFalse\u001b[39;00m):\n\u001b[1;32m    435\u001b[0m     \u001b[38;5;124;03m\"\"\" Initialize a 1-D linear interpolation class.\"\"\"\u001b[39;00m\n\u001b[0;32m--> 436\u001b[0m     \u001b[43m_Interpolator1D\u001b[49m\u001b[38;5;241;43m.\u001b[39;49m\u001b[38;5;21;43m__init__\u001b[39;49m\u001b[43m(\u001b[49m\u001b[38;5;28;43mself\u001b[39;49m\u001b[43m,\u001b[49m\u001b[43m \u001b[49m\u001b[43mx\u001b[49m\u001b[43m,\u001b[49m\u001b[43m \u001b[49m\u001b[43my\u001b[49m\u001b[43m,\u001b[49m\u001b[43m \u001b[49m\u001b[43maxis\u001b[49m\u001b[38;5;241;43m=\u001b[39;49m\u001b[43maxis\u001b[49m\u001b[43m)\u001b[49m\n\u001b[1;32m    438\u001b[0m     \u001b[38;5;28mself\u001b[39m\u001b[38;5;241m.\u001b[39mbounds_error \u001b[38;5;241m=\u001b[39m bounds_error  \u001b[38;5;66;03m# used by fill_value setter\u001b[39;00m\n\u001b[1;32m    439\u001b[0m     \u001b[38;5;28mself\u001b[39m\u001b[38;5;241m.\u001b[39mcopy \u001b[38;5;241m=\u001b[39m copy\n",
      "File \u001b[0;32m~/anaconda3/lib/python3.8/site-packages/scipy/interpolate/polyint.py:54\u001b[0m, in \u001b[0;36m_Interpolator1D.__init__\u001b[0;34m(self, xi, yi, axis)\u001b[0m\n\u001b[1;32m     52\u001b[0m \u001b[38;5;28mself\u001b[39m\u001b[38;5;241m.\u001b[39mdtype \u001b[38;5;241m=\u001b[39m \u001b[38;5;28;01mNone\u001b[39;00m\n\u001b[1;32m     53\u001b[0m \u001b[38;5;28;01mif\u001b[39;00m yi \u001b[38;5;129;01mis\u001b[39;00m \u001b[38;5;129;01mnot\u001b[39;00m \u001b[38;5;28;01mNone\u001b[39;00m:\n\u001b[0;32m---> 54\u001b[0m     \u001b[38;5;28;43mself\u001b[39;49m\u001b[38;5;241;43m.\u001b[39;49m\u001b[43m_set_yi\u001b[49m\u001b[43m(\u001b[49m\u001b[43myi\u001b[49m\u001b[43m,\u001b[49m\u001b[43m \u001b[49m\u001b[43mxi\u001b[49m\u001b[38;5;241;43m=\u001b[39;49m\u001b[43mxi\u001b[49m\u001b[43m,\u001b[49m\u001b[43m \u001b[49m\u001b[43maxis\u001b[49m\u001b[38;5;241;43m=\u001b[39;49m\u001b[43maxis\u001b[49m\u001b[43m)\u001b[49m\n",
      "File \u001b[0;32m~/anaconda3/lib/python3.8/site-packages/scipy/interpolate/polyint.py:124\u001b[0m, in \u001b[0;36m_Interpolator1D._set_yi\u001b[0;34m(self, yi, xi, axis)\u001b[0m\n\u001b[1;32m    122\u001b[0m     shape \u001b[38;5;241m=\u001b[39m (\u001b[38;5;241m1\u001b[39m,)\n\u001b[1;32m    123\u001b[0m \u001b[38;5;28;01mif\u001b[39;00m xi \u001b[38;5;129;01mis\u001b[39;00m \u001b[38;5;129;01mnot\u001b[39;00m \u001b[38;5;28;01mNone\u001b[39;00m \u001b[38;5;129;01mand\u001b[39;00m shape[axis] \u001b[38;5;241m!=\u001b[39m \u001b[38;5;28mlen\u001b[39m(xi):\n\u001b[0;32m--> 124\u001b[0m     \u001b[38;5;28;01mraise\u001b[39;00m \u001b[38;5;167;01mValueError\u001b[39;00m(\u001b[38;5;124m\"\u001b[39m\u001b[38;5;124mx and y arrays must be equal in length along \u001b[39m\u001b[38;5;124m\"\u001b[39m\n\u001b[1;32m    125\u001b[0m                      \u001b[38;5;124m\"\u001b[39m\u001b[38;5;124minterpolation axis.\u001b[39m\u001b[38;5;124m\"\u001b[39m)\n\u001b[1;32m    127\u001b[0m \u001b[38;5;28mself\u001b[39m\u001b[38;5;241m.\u001b[39m_y_axis \u001b[38;5;241m=\u001b[39m (axis \u001b[38;5;241m%\u001b[39m yi\u001b[38;5;241m.\u001b[39mndim)\n\u001b[1;32m    128\u001b[0m \u001b[38;5;28mself\u001b[39m\u001b[38;5;241m.\u001b[39m_y_extra_shape \u001b[38;5;241m=\u001b[39m yi\u001b[38;5;241m.\u001b[39mshape[:\u001b[38;5;28mself\u001b[39m\u001b[38;5;241m.\u001b[39m_y_axis]\u001b[38;5;241m+\u001b[39myi\u001b[38;5;241m.\u001b[39mshape[\u001b[38;5;28mself\u001b[39m\u001b[38;5;241m.\u001b[39m_y_axis\u001b[38;5;241m+\u001b[39m\u001b[38;5;241m1\u001b[39m:]\n",
      "\u001b[0;31mValueError\u001b[0m: x and y arrays must be equal in length along interpolation axis."
     ]
    }
   ],
   "source": [
    "from scipy import interpolate\n",
    "\n",
    "y = np.arange(210)\n",
    "\n",
    "interpolate.interp2d(Jan[:,0,0])"
   ]
  },
  {
   "cell_type": "code",
   "execution_count": 30,
   "id": "905b9bcc",
   "metadata": {
    "ExecuteTime": {
     "end_time": "2022-06-20T07:45:53.145841Z",
     "start_time": "2022-06-20T07:45:53.027820Z"
    }
   },
   "outputs": [
    {
     "data": {
      "image/png": "[encoded data removed]",
      "text/plain": [
       "<Figure size 1440x720 with 1 Axes>"
      ]
     },
     "metadata": {
      "needs_background": "light"
     },
     "output_type": "display_data"
    }
   ],
   "source": [
    "from matplotlib.pyplot import figure\n",
    "fig = figure(figsize=(20,10))\n",
    "plot_prate = lhtflyear[3,:,:]\n",
    "plt.imshow(plot_prate)\n",
    "tep = monname[0]"
   ]
  },
  {
   "cell_type": "code",
   "execution_count": 45,
   "id": "a1ccd44d",
   "metadata": {
    "ExecuteTime": {
     "end_time": "2022-06-20T08:41:03.100140Z",
     "start_time": "2022-06-20T08:41:03.031950Z"
    }
   },
   "outputs": [
    {
     "data": {
      "text/plain": [
       "<matplotlib.image.AxesImage at 0x7f9dbda579d0>"
      ]
     },
     "execution_count": 45,
     "metadata": {},
     "output_type": "execute_result"
    },
    {
     "name": "stderr",
     "output_type": "stream",
     "text": [
      "/home/akaz/anaconda3/lib/python3.8/site-packages/matplotlib/image.py:479: RuntimeWarning: overflow encountered in subtract\n",
      "  A_scaled -= a_min\n",
      "/home/akaz/anaconda3/lib/python3.8/site-packages/matplotlib/image.py:479: RuntimeWarning: invalid value encountered in subtract\n",
      "  A_scaled -= a_min\n",
      "/home/akaz/anaconda3/lib/python3.8/site-packages/matplotlib/image.py:480: RuntimeWarning: overflow encountered in subtract\n",
      "  vrange -= a_min\n",
      "/home/akaz/anaconda3/lib/python3.8/site-packages/matplotlib/image.py:503: RuntimeWarning: overflow encountered in multiply\n",
      "  A_resampled *= ((a_max - a_min) / frac)\n",
      "/home/akaz/anaconda3/lib/python3.8/site-packages/matplotlib/colors.py:1254: RuntimeWarning: invalid value encountered in true_divide\n",
      "  resdat /= (vmax - vmin)\n"
     ]
    },
    {
     "data": {
      "image/png": "[encoded data removed]",
      "text/plain": [
       "<Figure size 432x288 with 1 Axes>"
      ]
     },
     "metadata": {
      "needs_background": "light"
     },
     "output_type": "display_data"
    }
   ],
   "source": [
    "plt.imshow(climate[7,:])"
   ]
  },
  {
   "cell_type": "code",
   "execution_count": 9,
   "id": "ebe70f1b",
   "metadata": {
    "ExecuteTime": {
     "end_time": "2022-05-10T08:15:58.334375Z",
     "start_time": "2022-05-10T08:15:58.131764Z"
    }
   },
   "outputs": [
    {
     "name": "stdout",
     "output_type": "stream",
     "text": [
      "2017-01-31\n",
      "2017-02-28\n",
      "2017-03-31\n",
      "2017-04-30\n",
      "2017-05-31\n",
      "2017-06-30\n",
      "2017-07-31\n",
      "2017-08-31\n",
      "2017-09-30\n",
      "2017-10-31\n",
      "2017-11-30\n",
      "2017-12-31\n"
     ]
    }
   ],
   "source": [
    "for x in month:\n",
    "    # 範囲指定用の文字列構成\n",
    "    start1 = str(year) + '-' + str(x) + '-1'\n",
    "    end1 = str(year) + '-' + str(x) + '-10'\n",
    "    start2 = str(year) + '-' + str(x) + '-11'\n",
    "    end2 = str(year) + '-' + str(x) + '-20'\n",
    "    start3 = str(year) + '-' + str(x) + '-21'\n",
    "    \n",
    "    if x == 12:\n",
    "        nextmonth = 1\n",
    "        lastday = str(year+1) + '-' + str(nextmonth) + '-1'\n",
    "    else:\n",
    "        nextmonth = x + 1\n",
    "        lastday = str(year) + '-' + str(nextmonth) + '-1'\n",
    "\n",
    "    end3 = datetime.datetime.strptime(lastday,'%Y-%m-%d') - datetime.timedelta(days = 1)\n",
    "    end3 = end3.strftime('%Y-%m-%d')\n",
    "    # print(end3)\n",
    "    data_mean_10dy1 = data.loc[start1:end1].mean(dim='time')\n",
    "    data_mean_10dy2 = data.loc[start2:end2].mean(dim='time')\n",
    "    data_mean_10dy3 = data.loc[start3:end3].mean(dim='time')\n",
    "\n",
    "    # 月毎に10日区切りで3つ作ったら保存用の配列に代入\n",
    "    hoge = np.vstack((np.vstack((data_mean_10dy1,data_mean_10dy2)),data_mean_10dy3)) # これは1ヶ月分\n",
    "    print(end3)\n",
    "\n",
    "#print(data_mean_10dy1.shape)\n",
    "#print(data_mean_10dy2)\n",
    "#print(data_mean_10dy3)"
   ]
  },
  {
   "cell_type": "code",
   "execution_count": 5,
   "id": "d20690e0",
   "metadata": {
    "ExecuteTime": {
     "end_time": "2022-05-10T08:12:50.693379Z",
     "start_time": "2022-05-10T08:12:50.523118Z"
    }
   },
   "outputs": [
    {
     "data": {
      "text/html": [
       "<div><svg style=\"position: absolute; width: 0; height: 0; overflow: hidden\">\n",
       "<defs>\n",
       "<symbol id=\"icon-database\" viewBox=\"0 0 32 32\">\n",
       "<path d=\"M16 0c-8.837 0-16 2.239-16 5v4c0 2.761 7.163 5 16 5s16-2.239 16-5v-4c0-2.761-7.163-5-16-5z\"></path>\n",
       "<path d=\"M16 17c-8.837 0-16-2.239-16-5v6c0 2.761 7.163 5 16 5s16-2.239 16-5v-6c0 2.761-7.163 5-16 5z\"></path>\n",
       "<path d=\"M16 26c-8.837 0-16-2.239-16-5v6c0 2.761 7.163 5 16 5s16-2.239 16-5v-6c0 2.761-7.163 5-16 5z\"></path>\n",
       "</symbol>\n",
       "<symbol id=\"icon-file-text2\" viewBox=\"0 0 32 32\">\n",
       "<path d=\"M28.681 7.159c-0.694-0.947-1.662-2.053-2.724-3.116s-2.169-2.030-3.116-2.724c-1.612-1.182-2.393-1.319-2.841-1.319h-15.5c-1.378 0-2.5 1.121-2.5 2.5v27c0 1.378 1.122 2.5 2.5 2.5h23c1.378 0 2.5-1.122 2.5-2.5v-19.5c0-0.448-0.137-1.23-1.319-2.841zM24.543 5.457c0.959 0.959 1.712 1.825 2.268 2.543h-4.811v-4.811c0.718 0.556 1.584 1.309 2.543 2.268zM28 29.5c0 0.271-0.229 0.5-0.5 0.5h-23c-0.271 0-0.5-0.229-0.5-0.5v-27c0-0.271 0.229-0.5 0.5-0.5 0 0 15.499-0 15.5 0v7c0 0.552 0.448 1 1 1h7v19.5z\"></path>\n",
       "<path d=\"M23 26h-14c-0.552 0-1-0.448-1-1s0.448-1 1-1h14c0.552 0 1 0.448 1 1s-0.448 1-1 1z\"></path>\n",
       "<path d=\"M23 22h-14c-0.552 0-1-0.448-1-1s0.448-1 1-1h14c0.552 0 1 0.448 1 1s-0.448 1-1 1z\"></path>\n",
       "<path d=\"M23 18h-14c-0.552 0-1-0.448-1-1s0.448-1 1-1h14c0.552 0 1 0.448 1 1s-0.448 1-1 1z\"></path>\n",
       "</symbol>\n",
       "</defs>\n",
       "</svg>\n",
       "<style>/* CSS stylesheet for displaying xarray objects in jupyterlab.\n",
       " *\n",
       " */\n",
       "\n",
       ":root {\n",
       "  --xr-font-color0: var(--jp-content-font-color0, rgba(0, 0, 0, 1));\n",
       "  --xr-font-color2: var(--jp-content-font-color2, rgba(0, 0, 0, 0.54));\n",
       "  --xr-font-color3: var(--jp-content-font-color3, rgba(0, 0, 0, 0.38));\n",
       "  --xr-border-color: var(--jp-border-color2, #e0e0e0);\n",
       "  --xr-disabled-color: var(--jp-layout-color3, #bdbdbd);\n",
       "  --xr-background-color: var(--jp-layout-color0, white);\n",
       "  --xr-background-color-row-even: var(--jp-layout-color1, white);\n",
       "  --xr-background-color-row-odd: var(--jp-layout-color2, #eeeeee);\n",
       "}\n",
       "\n",
       "html[theme=dark],\n",
       "body.vscode-dark {\n",
       "  --xr-font-color0: rgba(255, 255, 255, 1);\n",
       "  --xr-font-color2: rgba(255, 255, 255, 0.54);\n",
       "  --xr-font-color3: rgba(255, 255, 255, 0.38);\n",
       "  --xr-border-color: #1F1F1F;\n",
       "  --xr-disabled-color: #515151;\n",
       "  --xr-background-color: #111111;\n",
       "  --xr-background-color-row-even: #111111;\n",
       "  --xr-background-color-row-odd: #313131;\n",
       "}\n",
       "\n",
       ".xr-wrap {\n",
       "  display: block;\n",
       "  min-width: 300px;\n",
       "  max-width: 700px;\n",
       "}\n",
       "\n",
       ".xr-text-repr-fallback {\n",
       "  /* fallback to plain text repr when CSS is not injected (untrusted notebook) */\n",
       "  display: none;\n",
       "}\n",
       "\n",
       ".xr-header {\n",
       "  padding-top: 6px;\n",
       "  padding-bottom: 6px;\n",
       "  margin-bottom: 4px;\n",
       "  border-bottom: solid 1px var(--xr-border-color);\n",
       "}\n",
       "\n",
       ".xr-header > div,\n",
       ".xr-header > ul {\n",
       "  display: inline;\n",
       "  margin-top: 0;\n",
       "  margin-bottom: 0;\n",
       "}\n",
       "\n",
       ".xr-obj-type,\n",
       ".xr-array-name {\n",
       "  margin-left: 2px;\n",
       "  margin-right: 10px;\n",
       "}\n",
       "\n",
       ".xr-obj-type {\n",
       "  color: var(--xr-font-color2);\n",
       "}\n",
       "\n",
       ".xr-sections {\n",
       "  padding-left: 0 !important;\n",
       "  display: grid;\n",
       "  grid-template-columns: 150px auto auto 1fr 20px 20px;\n",
       "}\n",
       "\n",
       ".xr-section-item {\n",
       "  display: contents;\n",
       "}\n",
       "\n",
       ".xr-section-item input {\n",
       "  display: none;\n",
       "}\n",
       "\n",
       ".xr-section-item input + label {\n",
       "  color: var(--xr-disabled-color);\n",
       "}\n",
       "\n",
       ".xr-section-item input:enabled + label {\n",
       "  cursor: pointer;\n",
       "  color: var(--xr-font-color2);\n",
       "}\n",
       "\n",
       ".xr-section-item input:enabled + label:hover {\n",
       "  color: var(--xr-font-color0);\n",
       "}\n",
       "\n",
       ".xr-section-summary {\n",
       "  grid-column: 1;\n",
       "  color: var(--xr-font-color2);\n",
       "  font-weight: 500;\n",
       "}\n",
       "\n",
       ".xr-section-summary > span {\n",
       "  display: inline-block;\n",
       "  padding-left: 0.5em;\n",
       "}\n",
       "\n",
       ".xr-section-summary-in:disabled + label {\n",
       "  color: var(--xr-font-color2);\n",
       "}\n",
       "\n",
       ".xr-section-summary-in + label:before {\n",
       "  display: inline-block;\n",
       "  content: '►';\n",
       "  font-size: 11px;\n",
       "  width: 15px;\n",
       "  text-align: center;\n",
       "}\n",
       "\n",
       ".xr-section-summary-in:disabled + label:before {\n",
       "  color: var(--xr-disabled-color);\n",
       "}\n",
       "\n",
       ".xr-section-summary-in:checked + label:before {\n",
       "  content: '▼';\n",
       "}\n",
       "\n",
       ".xr-section-summary-in:checked + label > span {\n",
       "  display: none;\n",
       "}\n",
       "\n",
       ".xr-section-summary,\n",
       ".xr-section-inline-details {\n",
       "  padding-top: 4px;\n",
       "  padding-bottom: 4px;\n",
       "}\n",
       "\n",
       ".xr-section-inline-details {\n",
       "  grid-column: 2 / -1;\n",
       "}\n",
       "\n",
       ".xr-section-details {\n",
       "  display: none;\n",
       "  grid-column: 1 / -1;\n",
       "  margin-bottom: 5px;\n",
       "}\n",
       "\n",
       ".xr-section-summary-in:checked ~ .xr-section-details {\n",
       "  display: contents;\n",
       "}\n",
       "\n",
       ".xr-array-wrap {\n",
       "  grid-column: 1 / -1;\n",
       "  display: grid;\n",
       "  grid-template-columns: 20px auto;\n",
       "}\n",
       "\n",
       ".xr-array-wrap > label {\n",
       "  grid-column: 1;\n",
       "  vertical-align: top;\n",
       "}\n",
       "\n",
       ".xr-preview {\n",
       "  color: var(--xr-font-color3);\n",
       "}\n",
       "\n",
       ".xr-array-preview,\n",
       ".xr-array-data {\n",
       "  padding: 0 5px !important;\n",
       "  grid-column: 2;\n",
       "}\n",
       "\n",
       ".xr-array-data,\n",
       ".xr-array-in:checked ~ .xr-array-preview {\n",
       "  display: none;\n",
       "}\n",
       "\n",
       ".xr-array-in:checked ~ .xr-array-data,\n",
       ".xr-array-preview {\n",
       "  display: inline-block;\n",
       "}\n",
       "\n",
       ".xr-dim-list {\n",
       "  display: inline-block !important;\n",
       "  list-style: none;\n",
       "  padding: 0 !important;\n",
       "  margin: 0;\n",
       "}\n",
       "\n",
       ".xr-dim-list li {\n",
       "  display: inline-block;\n",
       "  padding: 0;\n",
       "  margin: 0;\n",
       "}\n",
       "\n",
       ".xr-dim-list:before {\n",
       "  content: '(';\n",
       "}\n",
       "\n",
       ".xr-dim-list:after {\n",
       "  content: ')';\n",
       "}\n",
       "\n",
       ".xr-dim-list li:not(:last-child):after {\n",
       "  content: ',';\n",
       "  padding-right: 5px;\n",
       "}\n",
       "\n",
       ".xr-has-index {\n",
       "  font-weight: bold;\n",
       "}\n",
       "\n",
       ".xr-var-list,\n",
       ".xr-var-item {\n",
       "  display: contents;\n",
       "}\n",
       "\n",
       ".xr-var-item > div,\n",
       ".xr-var-item label,\n",
       ".xr-var-item > .xr-var-name span {\n",
       "  background-color: var(--xr-background-color-row-even);\n",
       "  margin-bottom: 0;\n",
       "}\n",
       "\n",
       ".xr-var-item > .xr-var-name:hover span {\n",
       "  padding-right: 5px;\n",
       "}\n",
       "\n",
       ".xr-var-list > li:nth-child(odd) > div,\n",
       ".xr-var-list > li:nth-child(odd) > label,\n",
       ".xr-var-list > li:nth-child(odd) > .xr-var-name span {\n",
       "  background-color: var(--xr-background-color-row-odd);\n",
       "}\n",
       "\n",
       ".xr-var-name {\n",
       "  grid-column: 1;\n",
       "}\n",
       "\n",
       ".xr-var-dims {\n",
       "  grid-column: 2;\n",
       "}\n",
       "\n",
       ".xr-var-dtype {\n",
       "  grid-column: 3;\n",
       "  text-align: right;\n",
       "  color: var(--xr-font-color2);\n",
       "}\n",
       "\n",
       ".xr-var-preview {\n",
       "  grid-column: 4;\n",
       "}\n",
       "\n",
       ".xr-var-name,\n",
       ".xr-var-dims,\n",
       ".xr-var-dtype,\n",
       ".xr-preview,\n",
       ".xr-attrs dt {\n",
       "  white-space: nowrap;\n",
       "  overflow: hidden;\n",
       "  text-overflow: ellipsis;\n",
       "  padding-right: 10px;\n",
       "}\n",
       "\n",
       ".xr-var-name:hover,\n",
       ".xr-var-dims:hover,\n",
       ".xr-var-dtype:hover,\n",
       ".xr-attrs dt:hover {\n",
       "  overflow: visible;\n",
       "  width: auto;\n",
       "  z-index: 1;\n",
       "}\n",
       "\n",
       ".xr-var-attrs,\n",
       ".xr-var-data {\n",
       "  display: none;\n",
       "  background-color: var(--xr-background-color) !important;\n",
       "  padding-bottom: 5px !important;\n",
       "}\n",
       "\n",
       ".xr-var-attrs-in:checked ~ .xr-var-attrs,\n",
       ".xr-var-data-in:checked ~ .xr-var-data {\n",
       "  display: block;\n",
       "}\n",
       "\n",
       ".xr-var-data > table {\n",
       "  float: right;\n",
       "}\n",
       "\n",
       ".xr-var-name span,\n",
       ".xr-var-data,\n",
       ".xr-attrs {\n",
       "  padding-left: 25px !important;\n",
       "}\n",
       "\n",
       ".xr-attrs,\n",
       ".xr-var-attrs,\n",
       ".xr-var-data {\n",
       "  grid-column: 1 / -1;\n",
       "}\n",
       "\n",
       "dl.xr-attrs {\n",
       "  padding: 0;\n",
       "  margin: 0;\n",
       "  display: grid;\n",
       "  grid-template-columns: 125px auto;\n",
       "}\n",
       "\n",
       ".xr-attrs dt,\n",
       ".xr-attrs dd {\n",
       "  padding: 0;\n",
       "  margin: 0;\n",
       "  float: left;\n",
       "  padding-right: 10px;\n",
       "  width: auto;\n",
       "}\n",
       "\n",
       ".xr-attrs dt {\n",
       "  font-weight: normal;\n",
       "  grid-column: 1;\n",
       "}\n",
       "\n",
       ".xr-attrs dt:hover span {\n",
       "  display: inline-block;\n",
       "  background: var(--xr-background-color);\n",
       "  padding-right: 10px;\n",
       "}\n",
       "\n",
       ".xr-attrs dd {\n",
       "  grid-column: 2;\n",
       "  white-space: pre-wrap;\n",
       "  word-break: break-all;\n",
       "}\n",
       "\n",
       ".xr-icon-database,\n",
       ".xr-icon-file-text2 {\n",
       "  display: inline-block;\n",
       "  vertical-align: middle;\n",
       "  width: 1em;\n",
       "  height: 1.5em !important;\n",
       "  stroke-width: 0;\n",
       "  stroke: currentColor;\n",
       "  fill: currentColor;\n",
       "}\n",
       "</style><pre class='xr-text-repr-fallback'>&lt;xarray.DataArray &#x27;dlwrf&#x27; (month: 12, lat: 94, lon: 192)&gt;\n",
       "array([[[155.33871 , 154.30646 , 153.30646 , ..., 156.95967 ,\n",
       "         156.41936 , 155.89516 ],\n",
       "        [155.46774 , 155.75807 , 156.1129  , ..., 154.75807 ,\n",
       "         154.75807 , 155.01613 ],\n",
       "        [155.79033 , 157.29033 , 158.90323 , ..., 152.75    ,\n",
       "         153.30646 , 154.2742  ],\n",
       "        ...,\n",
       "        [122.91936 , 126.32258 , 129.75    , ..., 115.008064,\n",
       "         117.508064, 120.09677 ],\n",
       "        [121.120964, 122.94355 , 124.66129 , ..., 117.41936 ,\n",
       "         118.491936, 119.758064],\n",
       "        [119.064514, 118.76613 , 118.30645 , ..., 120.435486,\n",
       "         119.80645 , 119.30645 ]],\n",
       "\n",
       "       [[148.21428 , 147.94643 , 147.64285 , ..., 150.27678 ,\n",
       "         149.55357 , 148.90178 ],\n",
       "        [150.14285 , 150.79465 , 151.33928 , ..., 149.64285 ,\n",
       "         149.74107 , 149.94643 ],\n",
       "        [153.23215 , 154.73215 , 156.125   , ..., 150.25893 ,\n",
       "         151.13393 , 152.125   ],\n",
       "...\n",
       "        [ 89.683334,  93.86667 ,  98.325   , ...,  78.958336,\n",
       "          82.316666,  85.85833 ],\n",
       "        [ 94.125   ,  96.308334,  98.46667 , ...,  88.875   ,\n",
       "          90.46667 ,  92.21667 ],\n",
       "        [ 99.15833 ,  98.99167 ,  98.48333 , ..., 100.15833 ,\n",
       "          99.725   ,  99.425   ]],\n",
       "\n",
       "       [[163.92741 , 162.79033 , 161.59677 , ..., 167.25    ,\n",
       "         166.32259 , 165.15323 ],\n",
       "        [178.60484 , 178.65323 , 178.5242  , ..., 178.43549 ,\n",
       "         178.69354 , 178.7258  ],\n",
       "        [192.48387 , 193.64516 , 194.70161 , ..., 188.84677 ,\n",
       "         190.26613 , 191.4758  ],\n",
       "        ...,\n",
       "        [120.048386, 124.935486, 130.04033 , ..., 109.52419 ,\n",
       "         112.83064 , 116.379036],\n",
       "        [122.451614, 125.314514, 128.21774 , ..., 116.96774 ,\n",
       "         118.645164, 120.47581 ],\n",
       "        [125.82258 , 126.258064, 126.46774 , ..., 125.97581 ,\n",
       "         125.8629  , 125.798386]]], dtype=float32)\n",
       "Coordinates:\n",
       "  * lat      (lat) float32 88.54 86.65 84.75 82.85 ... -84.75 -86.65 -88.54\n",
       "  * lon      (lon) float32 0.0 1.875 3.75 5.625 7.5 ... 352.5 354.4 356.2 358.1\n",
       "  * month    (month) int64 1 2 3 4 5 6 7 8 9 10 11 12</pre><div class='xr-wrap' hidden><div class='xr-header'><div class='xr-obj-type'>xarray.DataArray</div><div class='xr-array-name'>'dlwrf'</div><ul class='xr-dim-list'><li><span class='xr-has-index'>month</span>: 12</li><li><span class='xr-has-index'>lat</span>: 94</li><li><span class='xr-has-index'>lon</span>: 192</li></ul></div><ul class='xr-sections'><li class='xr-section-item'><div class='xr-array-wrap'><input id='section-7984605d-11f7-4d75-89e3-b83a86c551d1' class='xr-array-in' type='checkbox' checked><label for='section-7984605d-11f7-4d75-89e3-b83a86c551d1' title='Show/hide data repr'><svg class='icon xr-icon-database'><use xlink:href='#icon-database'></use></svg></label><div class='xr-array-preview xr-preview'><span>155.3 154.3 153.3 152.3 151.2 150.2 ... 126.4 126.3 126.0 125.9 125.8</span></div><div class='xr-array-data'><pre>array([[[155.33871 , 154.30646 , 153.30646 , ..., 156.95967 ,\n",
       "         156.41936 , 155.89516 ],\n",
       "        [155.46774 , 155.75807 , 156.1129  , ..., 154.75807 ,\n",
       "         154.75807 , 155.01613 ],\n",
       "        [155.79033 , 157.29033 , 158.90323 , ..., 152.75    ,\n",
       "         153.30646 , 154.2742  ],\n",
       "        ...,\n",
       "        [122.91936 , 126.32258 , 129.75    , ..., 115.008064,\n",
       "         117.508064, 120.09677 ],\n",
       "        [121.120964, 122.94355 , 124.66129 , ..., 117.41936 ,\n",
       "         118.491936, 119.758064],\n",
       "        [119.064514, 118.76613 , 118.30645 , ..., 120.435486,\n",
       "         119.80645 , 119.30645 ]],\n",
       "\n",
       "       [[148.21428 , 147.94643 , 147.64285 , ..., 150.27678 ,\n",
       "         149.55357 , 148.90178 ],\n",
       "        [150.14285 , 150.79465 , 151.33928 , ..., 149.64285 ,\n",
       "         149.74107 , 149.94643 ],\n",
       "        [153.23215 , 154.73215 , 156.125   , ..., 150.25893 ,\n",
       "         151.13393 , 152.125   ],\n",
       "...\n",
       "        [ 89.683334,  93.86667 ,  98.325   , ...,  78.958336,\n",
       "          82.316666,  85.85833 ],\n",
       "        [ 94.125   ,  96.308334,  98.46667 , ...,  88.875   ,\n",
       "          90.46667 ,  92.21667 ],\n",
       "        [ 99.15833 ,  98.99167 ,  98.48333 , ..., 100.15833 ,\n",
       "          99.725   ,  99.425   ]],\n",
       "\n",
       "       [[163.92741 , 162.79033 , 161.59677 , ..., 167.25    ,\n",
       "         166.32259 , 165.15323 ],\n",
       "        [178.60484 , 178.65323 , 178.5242  , ..., 178.43549 ,\n",
       "         178.69354 , 178.7258  ],\n",
       "        [192.48387 , 193.64516 , 194.70161 , ..., 188.84677 ,\n",
       "         190.26613 , 191.4758  ],\n",
       "        ...,\n",
       "        [120.048386, 124.935486, 130.04033 , ..., 109.52419 ,\n",
       "         112.83064 , 116.379036],\n",
       "        [122.451614, 125.314514, 128.21774 , ..., 116.96774 ,\n",
       "         118.645164, 120.47581 ],\n",
       "        [125.82258 , 126.258064, 126.46774 , ..., 125.97581 ,\n",
       "         125.8629  , 125.798386]]], dtype=float32)</pre></div></div></li><li class='xr-section-item'><input id='section-79cb0e72-ccef-4972-97fc-07a9e9d03b06' class='xr-section-summary-in' type='checkbox'  checked><label for='section-79cb0e72-ccef-4972-97fc-07a9e9d03b06' class='xr-section-summary' >Coordinates: <span>(3)</span></label><div class='xr-section-inline-details'></div><div class='xr-section-details'><ul class='xr-var-list'><li class='xr-var-item'><div class='xr-var-name'><span class='xr-has-index'>lat</span></div><div class='xr-var-dims'>(lat)</div><div class='xr-var-dtype'>float32</div><div class='xr-var-preview xr-preview'>88.54 86.65 84.75 ... -86.65 -88.54</div><input id='attrs-13d93cb7-3c25-46de-b554-c1032aea3f1c' class='xr-var-attrs-in' type='checkbox' ><label for='attrs-13d93cb7-3c25-46de-b554-c1032aea3f1c' title='Show/Hide attributes'><svg class='icon xr-icon-file-text2'><use xlink:href='#icon-file-text2'></use></svg></label><input id='data-bf0ef1ce-9893-4ab1-9bd4-cb713e9bea6f' class='xr-var-data-in' type='checkbox'><label for='data-bf0ef1ce-9893-4ab1-9bd4-cb713e9bea6f' title='Show/Hide data repr'><svg class='icon xr-icon-database'><use xlink:href='#icon-database'></use></svg></label><div class='xr-var-attrs'><dl class='xr-attrs'><dt><span>units :</span></dt><dd>degrees_north</dd><dt><span>actual_range :</span></dt><dd>[ 88.542 -88.542]</dd><dt><span>long_name :</span></dt><dd>Latitude</dd><dt><span>standard_name :</span></dt><dd>latitude</dd><dt><span>axis :</span></dt><dd>Y</dd></dl></div><div class='xr-var-data'><pre>array([ 88.542   ,  86.6531  ,  84.7532  ,  82.8508  ,  80.9473  ,  79.0435  ,\n",
       "        77.1394  ,  75.2351  ,  73.3307  ,  71.4262  ,  69.5217  ,  67.6171  ,\n",
       "        65.7125  ,  63.8079  ,  61.9033  ,  59.9986  ,  58.0939  ,  56.1893  ,\n",
       "        54.2846  ,  52.3799  ,  50.4752  ,  48.5705  ,  46.6658  ,  44.7611  ,\n",
       "        42.8564  ,  40.9517  ,  39.047   ,  37.1422  ,  35.2375  ,  33.3328  ,\n",
       "        31.4281  ,  29.5234  ,  27.6186  ,  25.7139  ,  23.8092  ,  21.9044  ,\n",
       "        19.9997  ,  18.095   ,  16.1902  ,  14.2855  ,  12.3808  ,  10.47604 ,\n",
       "         8.57131 ,   6.66657 ,   4.76184 ,   2.8571  ,   0.952368,  -0.952368,\n",
       "        -2.8571  ,  -4.76184 ,  -6.66657 ,  -8.57131 , -10.47604 , -12.3808  ,\n",
       "       -14.2855  , -16.1902  , -18.095   , -19.9997  , -21.9044  , -23.8092  ,\n",
       "       -25.7139  , -27.6186  , -29.5234  , -31.4281  , -33.3328  , -35.2375  ,\n",
       "       -37.1422  , -39.047   , -40.9517  , -42.8564  , -44.7611  , -46.6658  ,\n",
       "       -48.5705  , -50.4752  , -52.3799  , -54.2846  , -56.1893  , -58.0939  ,\n",
       "       -59.9986  , -61.9033  , -63.8079  , -65.7125  , -67.6171  , -69.5217  ,\n",
       "       -71.4262  , -73.3307  , -75.2351  , -77.1394  , -79.0435  , -80.9473  ,\n",
       "       -82.8508  , -84.7532  , -86.6531  , -88.542   ], dtype=float32)</pre></div></li><li class='xr-var-item'><div class='xr-var-name'><span class='xr-has-index'>lon</span></div><div class='xr-var-dims'>(lon)</div><div class='xr-var-dtype'>float32</div><div class='xr-var-preview xr-preview'>0.0 1.875 3.75 ... 356.2 358.1</div><input id='attrs-2b69ba33-9573-488e-a465-f4926d435ec6' class='xr-var-attrs-in' type='checkbox' ><label for='attrs-2b69ba33-9573-488e-a465-f4926d435ec6' title='Show/Hide attributes'><svg class='icon xr-icon-file-text2'><use xlink:href='#icon-file-text2'></use></svg></label><input id='data-a2f406a8-a0fc-4305-87bf-b92a6e279ae6' class='xr-var-data-in' type='checkbox'><label for='data-a2f406a8-a0fc-4305-87bf-b92a6e279ae6' title='Show/Hide data repr'><svg class='icon xr-icon-database'><use xlink:href='#icon-database'></use></svg></label><div class='xr-var-attrs'><dl class='xr-attrs'><dt><span>units :</span></dt><dd>degrees_east</dd><dt><span>long_name :</span></dt><dd>Longitude</dd><dt><span>actual_range :</span></dt><dd>[  0.    358.125]</dd><dt><span>standard_name :</span></dt><dd>longitude</dd><dt><span>axis :</span></dt><dd>X</dd></dl></div><div class='xr-var-data'><pre>array([  0.   ,   1.875,   3.75 ,   5.625,   7.5  ,   9.375,  11.25 ,  13.125,\n",
       "        15.   ,  16.875,  18.75 ,  20.625,  22.5  ,  24.375,  26.25 ,  28.125,\n",
       "        30.   ,  31.875,  33.75 ,  35.625,  37.5  ,  39.375,  41.25 ,  43.125,\n",
       "        45.   ,  46.875,  48.75 ,  50.625,  52.5  ,  54.375,  56.25 ,  58.125,\n",
       "        60.   ,  61.875,  63.75 ,  65.625,  67.5  ,  69.375,  71.25 ,  73.125,\n",
       "        75.   ,  76.875,  78.75 ,  80.625,  82.5  ,  84.375,  86.25 ,  88.125,\n",
       "        90.   ,  91.875,  93.75 ,  95.625,  97.5  ,  99.375, 101.25 , 103.125,\n",
       "       105.   , 106.875, 108.75 , 110.625, 112.5  , 114.375, 116.25 , 118.125,\n",
       "       120.   , 121.875, 123.75 , 125.625, 127.5  , 129.375, 131.25 , 133.125,\n",
       "       135.   , 136.875, 138.75 , 140.625, 142.5  , 144.375, 146.25 , 148.125,\n",
       "       150.   , 151.875, 153.75 , 155.625, 157.5  , 159.375, 161.25 , 163.125,\n",
       "       165.   , 166.875, 168.75 , 170.625, 172.5  , 174.375, 176.25 , 178.125,\n",
       "       180.   , 181.875, 183.75 , 185.625, 187.5  , 189.375, 191.25 , 193.125,\n",
       "       195.   , 196.875, 198.75 , 200.625, 202.5  , 204.375, 206.25 , 208.125,\n",
       "       210.   , 211.875, 213.75 , 215.625, 217.5  , 219.375, 221.25 , 223.125,\n",
       "       225.   , 226.875, 228.75 , 230.625, 232.5  , 234.375, 236.25 , 238.125,\n",
       "       240.   , 241.875, 243.75 , 245.625, 247.5  , 249.375, 251.25 , 253.125,\n",
       "       255.   , 256.875, 258.75 , 260.625, 262.5  , 264.375, 266.25 , 268.125,\n",
       "       270.   , 271.875, 273.75 , 275.625, 277.5  , 279.375, 281.25 , 283.125,\n",
       "       285.   , 286.875, 288.75 , 290.625, 292.5  , 294.375, 296.25 , 298.125,\n",
       "       300.   , 301.875, 303.75 , 305.625, 307.5  , 309.375, 311.25 , 313.125,\n",
       "       315.   , 316.875, 318.75 , 320.625, 322.5  , 324.375, 326.25 , 328.125,\n",
       "       330.   , 331.875, 333.75 , 335.625, 337.5  , 339.375, 341.25 , 343.125,\n",
       "       345.   , 346.875, 348.75 , 350.625, 352.5  , 354.375, 356.25 , 358.125],\n",
       "      dtype=float32)</pre></div></li><li class='xr-var-item'><div class='xr-var-name'><span class='xr-has-index'>month</span></div><div class='xr-var-dims'>(month)</div><div class='xr-var-dtype'>int64</div><div class='xr-var-preview xr-preview'>1 2 3 4 5 6 7 8 9 10 11 12</div><input id='attrs-8b488596-0d0e-45fe-9d1f-0f23f103f329' class='xr-var-attrs-in' type='checkbox' disabled><label for='attrs-8b488596-0d0e-45fe-9d1f-0f23f103f329' title='Show/Hide attributes'><svg class='icon xr-icon-file-text2'><use xlink:href='#icon-file-text2'></use></svg></label><input id='data-eaf9a38e-c598-4ecf-b57e-795c671a9630' class='xr-var-data-in' type='checkbox'><label for='data-eaf9a38e-c598-4ecf-b57e-795c671a9630' title='Show/Hide data repr'><svg class='icon xr-icon-database'><use xlink:href='#icon-database'></use></svg></label><div class='xr-var-attrs'><dl class='xr-attrs'></dl></div><div class='xr-var-data'><pre>array([ 1,  2,  3,  4,  5,  6,  7,  8,  9, 10, 11, 12])</pre></div></li></ul></div></li><li class='xr-section-item'><input id='section-d28d2bd4-0665-4af0-a8cb-25c05d98c81a' class='xr-section-summary-in' type='checkbox' disabled ><label for='section-d28d2bd4-0665-4af0-a8cb-25c05d98c81a' class='xr-section-summary'  title='Expand/collapse section'>Attributes: <span>(0)</span></label><div class='xr-section-inline-details'></div><div class='xr-section-details'><dl class='xr-attrs'></dl></div></li></ul></div></div>"
      ],
      "text/plain": [
       "<xarray.DataArray 'dlwrf' (month: 12, lat: 94, lon: 192)>\n",
       "array([[[155.33871 , 154.30646 , 153.30646 , ..., 156.95967 ,\n",
       "         156.41936 , 155.89516 ],\n",
       "        [155.46774 , 155.75807 , 156.1129  , ..., 154.75807 ,\n",
       "         154.75807 , 155.01613 ],\n",
       "        [155.79033 , 157.29033 , 158.90323 , ..., 152.75    ,\n",
       "         153.30646 , 154.2742  ],\n",
       "        ...,\n",
       "        [122.91936 , 126.32258 , 129.75    , ..., 115.008064,\n",
       "         117.508064, 120.09677 ],\n",
       "        [121.120964, 122.94355 , 124.66129 , ..., 117.41936 ,\n",
       "         118.491936, 119.758064],\n",
       "        [119.064514, 118.76613 , 118.30645 , ..., 120.435486,\n",
       "         119.80645 , 119.30645 ]],\n",
       "\n",
       "       [[148.21428 , 147.94643 , 147.64285 , ..., 150.27678 ,\n",
       "         149.55357 , 148.90178 ],\n",
       "        [150.14285 , 150.79465 , 151.33928 , ..., 149.64285 ,\n",
       "         149.74107 , 149.94643 ],\n",
       "        [153.23215 , 154.73215 , 156.125   , ..., 150.25893 ,\n",
       "         151.13393 , 152.125   ],\n",
       "...\n",
       "        [ 89.683334,  93.86667 ,  98.325   , ...,  78.958336,\n",
       "          82.316666,  85.85833 ],\n",
       "        [ 94.125   ,  96.308334,  98.46667 , ...,  88.875   ,\n",
       "          90.46667 ,  92.21667 ],\n",
       "        [ 99.15833 ,  98.99167 ,  98.48333 , ..., 100.15833 ,\n",
       "          99.725   ,  99.425   ]],\n",
       "\n",
       "       [[163.92741 , 162.79033 , 161.59677 , ..., 167.25    ,\n",
       "         166.32259 , 165.15323 ],\n",
       "        [178.60484 , 178.65323 , 178.5242  , ..., 178.43549 ,\n",
       "         178.69354 , 178.7258  ],\n",
       "        [192.48387 , 193.64516 , 194.70161 , ..., 188.84677 ,\n",
       "         190.26613 , 191.4758  ],\n",
       "        ...,\n",
       "        [120.048386, 124.935486, 130.04033 , ..., 109.52419 ,\n",
       "         112.83064 , 116.379036],\n",
       "        [122.451614, 125.314514, 128.21774 , ..., 116.96774 ,\n",
       "         118.645164, 120.47581 ],\n",
       "        [125.82258 , 126.258064, 126.46774 , ..., 125.97581 ,\n",
       "         125.8629  , 125.798386]]], dtype=float32)\n",
       "Coordinates:\n",
       "  * lat      (lat) float32 88.54 86.65 84.75 82.85 ... -84.75 -86.65 -88.54\n",
       "  * lon      (lon) float32 0.0 1.875 3.75 5.625 7.5 ... 352.5 354.4 356.2 358.1\n",
       "  * month    (month) int64 1 2 3 4 5 6 7 8 9 10 11 12"
      ]
     },
     "execution_count": 5,
     "metadata": {},
     "output_type": "execute_result"
    }
   ],
   "source": [
    "\n",
    "# datatimeindexを使って月とか週、曜日でも平均取れる\n",
    "key = data['time'].dt.month\n",
    "data.groupby(key).mean(dim='time')"
   ]
  },
  {
   "cell_type": "code",
   "execution_count": 6,
   "id": "576a2196",
   "metadata": {
    "ExecuteTime": {
     "end_time": "2022-05-10T08:12:50.998910Z",
     "start_time": "2022-05-10T08:12:50.708758Z"
    }
   },
   "outputs": [
    {
     "name": "stderr",
     "output_type": "stream",
     "text": [
      "/home/akaz/anaconda3/lib/python3.8/site-packages/matplotlib/contour.py:1486: UserWarning: Warning: converting a masked element to nan.\n",
      "  self.zmax = float(z.max())\n",
      "/home/akaz/anaconda3/lib/python3.8/site-packages/matplotlib/contour.py:1487: UserWarning: Warning: converting a masked element to nan.\n",
      "  self.zmin = float(z.min())\n"
     ]
    },
    {
     "data": {
      "image/png": "[encoded data removed]",
      "text/plain": [
       "<Figure size 576x360 with 2 Axes>"
      ]
     },
     "metadata": {
      "needs_background": "light"
     },
     "output_type": "display_data"
    }
   ],
   "source": [
    "clevels = np.arange(-20,50,5) # 塗りつぶし用\n",
    "\n",
    "# 描画\n",
    "fig = plt.figure(figsize=(8,5))\n",
    "\n",
    "# PlateCaree: 正距円筒図法, central_longitude: 図の中心の経度\n",
    "ax = fig.add_subplot(111,projection=ccrs.PlateCarree(central_longitude=180))\n",
    "\n",
    "# (2) 図を描く\n",
    "data_mean_10dy.plot.contourf(ax=ax,transform=ccrs.PlateCarree(),levels=clevels,cmap='ocean',cbar_kwargs={'label':'Downward Longwave Radiation Flux at surface (W/m$^{2}$)'})\n",
    "# transform = にはデータ自身の座標系を指定する; 大抵の場合ccrs.PlateCarree()としておけば問題ない\n",
    "\n",
    "# (3) 目盛り\n",
    "xticks = np.arange(13)*30\n",
    "yticks = -90 + np.arange(7)*30\n",
    "ax.set_xticks(xticks,crs=ccrs.PlateCarree())\n",
    "ax.set_yticks(yticks,crs=ccrs.PlateCarree())\n",
    "##　地図投影用の書式を設定\n",
    "lon_formatter = LongitudeFormatter(zero_direction_label=True)\n",
    "lat_formatter = LatitudeFormatter()\n",
    "ax.xaxis.set_major_formatter(lon_formatter)\n",
    "ax.yaxis.set_major_formatter(lat_formatter)\n",
    "\n",
    "\n",
    "# (4) 描画領域の設定\n",
    "ax.set_extent([60,180,0,210],crs=ccrs.PlateCarree())\n",
    "\n",
    "\n",
    "# (5) オプション\n",
    "ax.coastlines() #海岸線\n",
    "ax.gridlines(draw_labels=False) #罫線：ラベルはすでに上で描いたので\"False\"\n",
    "\n",
    "plt.show()"
   ]
  },
  {
   "cell_type": "code",
   "execution_count": 7,
   "id": "43301324",
   "metadata": {},
   "outputs": [
    {
     "name": "stdout",
     "output_type": "stream",
     "text": [
      "<xarray.Dataset>\n",
      "Dimensions:  (lat: 94, lon: 192, time: 365)\n",
      "Coordinates:\n",
      "  * lat      (lat) float32 88.54 86.65 84.75 82.85 ... -84.75 -86.65 -88.54\n",
      "  * lon      (lon) float32 0.0 1.875 3.75 5.625 7.5 ... 352.5 354.4 356.2 358.1\n",
      "  * time     (time) datetime64[ns] 1949-01-01 1949-01-02 ... 1949-12-31\n",
      "Data variables:\n",
      "    dlwrf    (time, lat, lon) float32 ...\n",
      "Attributes:\n",
      "    Conventions:    COARDS\n",
      "    title:          mean daily NMC reanalysis (1949)\n",
      "    description:    Data is from NMC initialized reanalysis\\n(4x/day).  It co...\n",
      "    platform:       Model\n",
      "    history:        created 99/05/29 by Hoop (netCDF2.3)\\nConverted to chunke...\n",
      "    References:     http://www.esrl.noaa.gov/psd/data/gridded/data.ncep.reana...\n",
      "    dataset_title:  NCEP-NCAR Reanalysis 1\n"
     ]
    }
   ],
   "source": [
    "ncfile = '01_ESTOC_ForcingData/NCEP_NCAR_Forcing/NCEP/dlwrf.sfc.gauss.1949.nc'\n",
    "nc2 = xr.open_dataset(ncfile)\n",
    "print(nc2)"
   ]
  }
 ],
 "metadata": {
  "kernelspec": {
   "display_name": "Python 3 (ipykernel)",
   "language": "python",
   "name": "python3"
  },
  "language_info": {
   "codemirror_mode": {
    "name": "ipython",
    "version": 3
   },
   "file_extension": ".py",
   "mimetype": "text/x-python",
   "name": "python",
   "nbconvert_exporter": "python",
   "pygments_lexer": "ipython3",
   "version": "3.9.16"
  },
  "toc": {
   "base_numbering": 1,
   "nav_menu": {},
   "number_sections": false,
   "sideBar": true,
   "skip_h1_title": false,
   "title_cell": "Table of Contents",
   "title_sidebar": "Contents",
   "toc_cell": false,
   "toc_position": {},
   "toc_section_display": true,
   "toc_window_display": false
  },
  "varInspector": {
   "cols": {
    "lenName": 16,
    "lenType": 16,
    "lenVar": 40
   },
   "kernels_config": {
    "python": {
     "delete_cmd_postfix": "",
     "delete_cmd_prefix": "del ",
     "library": "var_list.py",
     "varRefreshCmd": "print(var_dic_list())"
    },
    "r": {
     "delete_cmd_postfix": ") ",
     "delete_cmd_prefix": "rm(",
     "library": "var_list.r",
     "varRefreshCmd": "cat(var_dic_list()) "
    }
   },
   "oldHeight": 624.844,
   "position": {
    "height": "646.844px",
    "left": "682px",
    "right": "20px",
    "top": "110px",
    "width": "516px"
   },
   "types_to_exclude": [
    "module",
    "function",
    "builtin_function_or_method",
    "instance",
    "_Feature"
   ],
   "varInspector_section_display": "block",
   "window_display": false
  }
 },
 "nbformat": 4,
 "nbformat_minor": 5
}
