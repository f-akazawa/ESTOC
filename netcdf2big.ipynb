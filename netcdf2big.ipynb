{
 "cells": [
  {
   "cell_type": "code",
   "execution_count": 1,
   "id": "80041d02",
   "metadata": {
    "ExecuteTime": {
     "end_time": "2023-04-13T02:30:04.039781Z",
     "start_time": "2023-04-13T02:29:40.425673Z"
    },
    "scrolled": true
   },
   "outputs": [
    {
     "name": "stdout",
     "output_type": "stream",
     "text": [
      "end\n"
     ]
    }
   ],
   "source": [
    "import xarray as xr\n",
    "import inspect\n",
    "import pandas as pd\n",
    "import numpy as np\n",
    "import datetime\n",
    "from matplotlib.pyplot import figure\n",
    "import matplotlib.pyplot as plt\n",
    "import cartopy.crs as ccrs\n",
    "import cartopy.util as cutil\n",
    "import cartopy.feature as cfeature\n",
    "from cartopy.mpl.ticker import LongitudeFormatter, LatitudeFormatter\n",
    "import os\n",
    "\n",
    "month = [1,2,3,4,5,6,7,8,9,10,11,12]\n",
    "prateyear = xr.DataArray()\n",
    "#month10dy = xr.DataArray(np.zeros((3,94,192))) # ループの中でやらないとどんどん増える\n",
    "\n",
    "\n",
    "# prate.sfc.gauss.XXXX.nc読み込み、１０日毎に単純平均を取ったらバイナリファイルprate10dy.datに保存\n",
    "# 他にdlwrf,lhtfl,shtfl,ulwrf,uflx,uswrf,vflxがある\n",
    "# lhtflは次のFreshWaterFlux作成でも使う\n",
    "\n",
    "##ファイルがあるときは一旦削除する\n",
    "if os.path.isfile('prate10dy.dat'):\n",
    "    os.remove('prate10dy.dat')\n",
    "\n",
    "with open('prate10dy.dat',mode='a') as f:\n",
    "    for year in range(1948,2022): # 1948-2021\n",
    "        month10dy = xr.DataArray(np.zeros((3,94,192))) # コピー用の配列を初期化\n",
    "        pratenc = '01_ESTOC_ForcingData/NCEP_NCAR_Forcing/NCEP/prate.sfc.gauss.'+str(year)+'.nc' # ncファイルはすべてlat94,lon192,Time365\n",
    "\n",
    "        pratenc = xr.open_dataset(pratenc)['prate'].load() # パタメータ名はファイルから読める。load()は配列をメモリに一度全部読み込む\n",
    "\n",
    "    \n",
    "        #dlwrf = np.empty([366,94,192]) # 10日区切りを保存する変数、命名は上と同じくファイルから読むべき\n",
    "        for x in month:\n",
    "        # 範囲指定用の文字列構成\n",
    "            start1 = str(year) + '-' + str(x) + '-1'\n",
    "            end1 = str(year) + '-' + str(x) + '-10'\n",
    "            start2 = str(year) + '-' + str(x) + '-11'\n",
    "            end2 = str(year) + '-' + str(x) + '-20'\n",
    "            start3 = str(year) + '-' + str(x) + '-21'\n",
    "    \n",
    "            if x == 12:\n",
    "                nextmonth = 1\n",
    "                lastday = str(year+1) + '-' + str(nextmonth) + '-1'\n",
    "            else:\n",
    "                nextmonth = x + 1\n",
    "                lastday = str(year) + '-' + str(nextmonth) + '-1'\n",
    "\n",
    "            end3 = datetime.datetime.strptime(lastday,'%Y-%m-%d') - datetime.timedelta(days = 1)\n",
    "            end3 = end3.strftime('%Y-%m-%d')\n",
    "\n",
    "            # 上中下旬に分けて平均を取る（とりあえずmean重みなし）\n",
    "            data_mean_10dy1 = pratenc.loc[start1:end1].mean(dim='time')\n",
    "            data_mean_10dy2 = pratenc.loc[start2:end2].mean(dim='time')\n",
    "            data_mean_10dy3 = pratenc.loc[start3:end3].mean(dim='time')\n",
    "\n",
    "            #月毎に10日区切りで3つ作ったら保存用の配列に代入\n",
    "            temp = np.stack([data_mean_10dy1,data_mean_10dy2,data_mean_10dy3],0) # tempは1ヶ月分\n",
    "            month10dy = np.append(month10dy,temp,axis=0) # 1ヶ月分のtempを順番にappendしていく（70年分）\n",
    "\n",
    "            prateyear = month10dy[3:] # 最初の3つは0なので消しておく\n",
    "                        \n",
    "# どんどん遅くなるので一旦バイナリファイルとして保存\n",
    "# 最後の4つが空列になってる?\n",
    "        prateyear.tofile(f)\n",
    "#        from IPython.core.debugger import Pdb; Pdb().set_trace()\n",
    "\n",
    "\n",
    "print('end')\n"
   ]
  },
  {
   "cell_type": "code",
   "execution_count": 2,
   "id": "0e74f612",
   "metadata": {
    "ExecuteTime": {
     "end_time": "2023-04-13T02:30:06.311421Z",
     "start_time": "2023-04-13T02:30:06.265525Z"
    }
   },
   "outputs": [
    {
     "data": {
      "text/plain": [
       "109"
      ]
     },
     "execution_count": 2,
     "metadata": {},
     "output_type": "execute_result"
    }
   ],
   "source": [
    "# 要素削除とガベージコレクター\n",
    "import gc\n",
    "\n",
    "del data_mean_10dy1,data_mean_10dy3,data_mean_10dy2\n",
    "del month10dy,pratenc,prateyear,temp\n",
    "\n",
    "gc.collect()"
   ]
  },
  {
   "cell_type": "code",
   "execution_count": 3,
   "id": "aa3d0139",
   "metadata": {
    "ExecuteTime": {
     "end_time": "2023-04-13T02:30:08.998269Z",
     "start_time": "2023-04-13T02:30:08.993006Z"
    }
   },
   "outputs": [],
   "source": [
    "##ファイルがあるときは一旦削除する\n",
    "if os.path.isfile('lhtfl10dy.dat'):\n",
    "    os.remove('lhtfl10dy.dat')"
   ]
  },
  {
   "cell_type": "code",
   "execution_count": 4,
   "id": "94afcc42",
   "metadata": {
    "ExecuteTime": {
     "end_time": "2023-04-13T02:30:34.920424Z",
     "start_time": "2023-04-13T02:30:12.889435Z"
    }
   },
   "outputs": [
    {
     "name": "stdout",
     "output_type": "stream",
     "text": [
      "end\n"
     ]
    }
   ],
   "source": [
    "\n",
    "# 上と同様にlhtfl.sfc.gauss.XXXX.ncを読み込んでバイナリファイルlhtfl10dy.datに保存\n",
    "lhtflyear = xr.DataArray()\n",
    "\n",
    "## ファイル存在チェック入れる\n",
    "with open('lhtfl10dy.dat',mode='a') as f:\n",
    "    for year in range(1948,2022): # 1948-2021\n",
    "        month10dy = xr.DataArray(np.zeros((3,94,192))) # コピー用の配列を初期化\n",
    "        lhtflnc = '01_ESTOC_ForcingData/NCEP_NCAR_Forcing/NCEP/lhtfl.sfc.gauss.'+str(year)+'.nc'\n",
    "        lhtflnc = xr.open_dataset(lhtflnc)['lhtfl'].load()\n",
    "        for x in month:\n",
    "            # 範囲指定用の文字列構成\n",
    "            start1 = str(year) + '-' + str(x) + '-1'\n",
    "            end1 = str(year) + '-' + str(x) + '-10'\n",
    "            start2 = str(year) + '-' + str(x) + '-11'\n",
    "            end2 = str(year) + '-' + str(x) + '-20'\n",
    "            start3 = str(year) + '-' + str(x) + '-21'\n",
    "    \n",
    "            if x == 12:\n",
    "                nextmonth = 1\n",
    "                lastday = str(year+1) + '-' + str(nextmonth) + '-1'\n",
    "            else:\n",
    "                nextmonth = x + 1\n",
    "                lastday = str(year) + '-' + str(nextmonth) + '-1'\n",
    "\n",
    "            end3 = datetime.datetime.strptime(lastday,'%Y-%m-%d') - datetime.timedelta(days = 1)\n",
    "            end3 = end3.strftime('%Y-%m-%d')\n",
    "\n",
    "            # 上中下旬に分けて平均を取る（とりあえずmean重みなし）\n",
    "            data_mean_10dy1 = lhtflnc.loc[start1:end1].mean(dim='time')\n",
    "            data_mean_10dy2 = lhtflnc.loc[start2:end2].mean(dim='time')\n",
    "            data_mean_10dy3 = lhtflnc.loc[start3:end3].mean(dim='time')\n",
    "\n",
    "            #月毎に10日区切りで3つ作ったら保存用の配列に代入\n",
    "            temp = np.stack([data_mean_10dy1,data_mean_10dy2,data_mean_10dy3],0) # tempは1ヶ月分\n",
    "            month10dy = np.append(month10dy,temp,axis=0) # 1ヶ月分のtempを順番にappendしていく（70年分）\n",
    "\n",
    "            lhtflyear = month10dy[3:] # 最初の3つは0なので消しておく\n",
    "# どんどん遅くなるので一旦バイナリファイルとして保存\n",
    "# インデント注意\n",
    "        lhtflyear.tofile(f)\n",
    "\n",
    "\n",
    "print ('end')"
   ]
  },
  {
   "cell_type": "code",
   "execution_count": 25,
   "id": "6f21487a",
   "metadata": {
    "ExecuteTime": {
     "end_time": "2023-04-12T08:04:23.123836Z",
     "start_time": "2023-04-12T08:04:22.984897Z"
    }
   },
   "outputs": [
    {
     "data": {
      "image/png": "[encoded data removed]",
      "text/plain": [
       "<Figure size 640x480 with 1 Axes>"
      ]
     },
     "metadata": {},
     "output_type": "display_data"
    }
   ],
   "source": [
    "##fresh = (prate - lhtfl/2.5e6)*0.1\n",
    "#plt.imshow((prate[2663,:,:]-lhtfl[2663,:,:]/2.5e6)*0.1 ,vmin=-1*10**-6,vmax=1*10**-6)\n",
    "#plt.savefig('miss.png')"
   ]
  },
  {
   "cell_type": "code",
   "execution_count": 5,
   "id": "e6b0e83f",
   "metadata": {
    "ExecuteTime": {
     "end_time": "2023-04-13T02:32:12.080464Z",
     "start_time": "2023-04-13T02:32:11.591364Z"
    }
   },
   "outputs": [
    {
     "ename": "NameError",
     "evalue": "name 'data_mean_10dy3' is not defined",
     "output_type": "error",
     "traceback": [
      "\u001b[0;31m---------------------------------------------------------------------------\u001b[0m",
      "\u001b[0;31mNameError\u001b[0m                                 Traceback (most recent call last)",
      "Cell \u001b[0;32mIn [5], line 2\u001b[0m\n\u001b[1;32m      1\u001b[0m \u001b[38;5;66;03m# gabage collcter\u001b[39;00m\n\u001b[0;32m----> 2\u001b[0m \u001b[38;5;28;01mdel\u001b[39;00m data_mean_10dy1,data_mean_10dy3,data_mean_10dy2\n\u001b[1;32m      3\u001b[0m \u001b[38;5;28;01mdel\u001b[39;00m lhtflyear\n\u001b[1;32m      4\u001b[0m \u001b[38;5;28;01mdel\u001b[39;00m month10dy,temp\n",
      "\u001b[0;31mNameError\u001b[0m: name 'data_mean_10dy3' is not defined"
     ]
    }
   ],
   "source": [
    "# gabage collcter\n",
    "del data_mean_10dy1,data_mean_10dy3,data_mean_10dy2\n",
    "del lhtflyear\n",
    "del month10dy,temp\n",
    "gc.collect()"
   ]
  },
  {
   "cell_type": "code",
   "execution_count": 6,
   "id": "c7c049c7",
   "metadata": {
    "ExecuteTime": {
     "end_time": "2023-04-13T02:32:46.140561Z",
     "start_time": "2023-04-13T02:32:45.966596Z"
    }
   },
   "outputs": [],
   "source": [
    "##ファイルがあるときは一旦削除する\n",
    "if os.path.isfile('dswrf10dy.dat'):\n",
    "    os.remove('dswrf10dy.dat')"
   ]
  },
  {
   "cell_type": "code",
   "execution_count": 7,
   "id": "894e4319",
   "metadata": {
    "ExecuteTime": {
     "end_time": "2023-04-13T02:33:19.686341Z",
     "start_time": "2023-04-13T02:32:47.135019Z"
    }
   },
   "outputs": [
    {
     "name": "stdout",
     "output_type": "stream",
     "text": [
      "end\n"
     ]
    }
   ],
   "source": [
    "# dswrf.sfc.gauss.XXXX.ncを読み込んで１０日平均を取ってバイナリファイルに一度保存\n",
    "dswrfyear = dlwrfyear = uswrfyear = ulwrfyear = shtflyear = uflxyear = vflxyear = xr.DataArray()\n",
    "with open('dswrf10dy.dat',mode='a') as f:\n",
    "    for year in range(1948,2022): # 1948-2021\n",
    "        month10dy = xr.DataArray(np.zeros((3,94,192))) # コピー用の配列を初期化\n",
    "        dswrfnc = '01_ESTOC_ForcingData/NCEP_NCAR_Forcing/NCEP/dswrf.sfc.gauss.'+str(year)+'.nc'\n",
    "        dswrfnc = xr.open_dataset(dswrfnc)['dswrf'].load()\n",
    "        for x in month:\n",
    "            # 範囲指定用の文字列構成\n",
    "            start1 = str(year) + '-' + str(x) + '-1'\n",
    "            end1 = str(year) + '-' + str(x) + '-10'\n",
    "            start2 = str(year) + '-' + str(x) + '-11'\n",
    "            end2 = str(year) + '-' + str(x) + '-20'\n",
    "            start3 = str(year) + '-' + str(x) + '-21'\n",
    "    \n",
    "            if x == 12:\n",
    "                nextmonth = 1\n",
    "                lastday = str(year+1) + '-' + str(nextmonth) + '-1'\n",
    "            else:\n",
    "                nextmonth = x + 1\n",
    "                lastday = str(year) + '-' + str(nextmonth) + '-1'\n",
    "\n",
    "            end3 = datetime.datetime.strptime(lastday,'%Y-%m-%d') - datetime.timedelta(days = 1)\n",
    "            end3 = end3.strftime('%Y-%m-%d')\n",
    "\n",
    "            # 上中下旬に分けて平均を取る（とりあえずmean重みなし）\n",
    "            data_mean_10dy1 = dswrfnc.loc[start1:end1].mean(dim='time')\n",
    "            data_mean_10dy2 = dswrfnc.loc[start2:end2].mean(dim='time')\n",
    "            data_mean_10dy3 = dswrfnc.loc[start3:end3].mean(dim='time')\n",
    "\n",
    "            #月毎に10日区切りで3つ作ったら保存用の配列に代入\n",
    "            temp = np.stack([data_mean_10dy1,data_mean_10dy2,data_mean_10dy3],0) # tempは1ヶ月分\n",
    "            month10dy = np.append(month10dy,temp,axis=0) # 1ヶ月分のtempを順番にappendしていく（70年分）\n",
    "    \n",
    "            dswrfyear= month10dy[3:] # 最初の3つは0なので消しておく\n",
    "        dswrfyear.tofile(f)\n",
    "\n",
    "print('end')"
   ]
  },
  {
   "cell_type": "code",
   "execution_count": 8,
   "id": "9610f203",
   "metadata": {
    "ExecuteTime": {
     "end_time": "2023-04-13T02:33:23.084292Z",
     "start_time": "2023-04-13T02:33:23.022450Z"
    }
   },
   "outputs": [
    {
     "data": {
      "text/plain": [
       "244"
      ]
     },
     "execution_count": 8,
     "metadata": {},
     "output_type": "execute_result"
    }
   ],
   "source": [
    "# gabage collecter\n",
    "del data_mean_10dy1,data_mean_10dy2,data_mean_10dy3\n",
    "del dswrfyear\n",
    "del month10dy,temp\n",
    "gc.collect()"
   ]
  },
  {
   "cell_type": "code",
   "execution_count": 9,
   "id": "23446757",
   "metadata": {
    "ExecuteTime": {
     "end_time": "2023-04-13T02:33:25.171523Z",
     "start_time": "2023-04-13T02:33:25.165958Z"
    }
   },
   "outputs": [],
   "source": [
    "##ファイルがあるときは一旦削除する\n",
    "if os.path.isfile('dlwrf10dy.dat'):\n",
    "    os.remove('dlwrf10dy.dat')"
   ]
  },
  {
   "cell_type": "code",
   "execution_count": 10,
   "id": "95c327b2",
   "metadata": {
    "ExecuteTime": {
     "end_time": "2023-04-13T02:34:01.090247Z",
     "start_time": "2023-04-13T02:33:27.853931Z"
    }
   },
   "outputs": [
    {
     "name": "stdout",
     "output_type": "stream",
     "text": [
      "end\n"
     ]
    }
   ],
   "source": [
    "# dlwrf.sfc.gauss.XXXX.ncファイルを読んで１０日平均を取ってバイナリファイルに保存\n",
    "with open('dlwrf10dy.dat',mode='a') as f:\n",
    "    for year in range(1948,2022): # 1948-2021\n",
    "        month10dy = xr.DataArray(np.zeros((3,94,192))) # コピー用の配列を初期化\n",
    "        dlwrfnc = '01_ESTOC_ForcingData/NCEP_NCAR_Forcing/NCEP/dlwrf.sfc.gauss.'+str(year)+'.nc'\n",
    "        dlwrfnc = xr.open_dataset(dlwrfnc)['dlwrf'].load()\n",
    "    \n",
    "        for x in month:\n",
    "            # 範囲指定用の文字列構成\n",
    "            start1 = str(year) + '-' + str(x) + '-1'\n",
    "            end1 = str(year) + '-' + str(x) + '-10'\n",
    "            start2 = str(year) + '-' + str(x) + '-11'\n",
    "            end2 = str(year) + '-' + str(x) + '-20'\n",
    "            start3 = str(year) + '-' + str(x) + '-21'\n",
    "    \n",
    "            if x == 12:\n",
    "                nextmonth = 1\n",
    "                lastday = str(year+1) + '-' + str(nextmonth) + '-1'\n",
    "            else:\n",
    "                nextmonth = x + 1\n",
    "                lastday = str(year) + '-' + str(nextmonth) + '-1'\n",
    "\n",
    "            end3 = datetime.datetime.strptime(lastday,'%Y-%m-%d') - datetime.timedelta(days = 1)\n",
    "            end3 = end3.strftime('%Y-%m-%d')\n",
    "\n",
    "            # 上中下旬に分けて平均を取る（とりあえずmean重みなし）\n",
    "            data_mean_10dy1 = dlwrfnc.loc[start1:end1].mean(dim='time')\n",
    "            data_mean_10dy2 = dlwrfnc.loc[start2:end2].mean(dim='time')\n",
    "            data_mean_10dy3 = dlwrfnc.loc[start3:end3].mean(dim='time')\n",
    "\n",
    "            #月毎に10日区切りで3つ作ったら保存用の配列に代入\n",
    "            temp = np.stack([data_mean_10dy1,data_mean_10dy2,data_mean_10dy3],0) # tempは1ヶ月分\n",
    "            month10dy = np.append(month10dy,temp,axis=0) # 1ヶ月分のtempを順番にappendしていく（70年分）\n",
    "    \n",
    "            dlwrfyear= month10dy[3:] # 最初の3つは0なので消しておく\n",
    "        dlwrfyear.tofile(f)\n",
    "\n",
    "print('end')"
   ]
  },
  {
   "cell_type": "code",
   "execution_count": 11,
   "id": "f6f916a8",
   "metadata": {
    "ExecuteTime": {
     "end_time": "2023-04-13T02:34:10.594027Z",
     "start_time": "2023-04-13T02:34:10.533630Z"
    }
   },
   "outputs": [
    {
     "data": {
      "text/plain": [
       "12"
      ]
     },
     "execution_count": 11,
     "metadata": {},
     "output_type": "execute_result"
    }
   ],
   "source": [
    "# gabage collecter\n",
    "del data_mean_10dy1,data_mean_10dy3,data_mean_10dy2\n",
    "del dlwrfyear\n",
    "del month10dy,temp\n",
    "gc.collect()"
   ]
  },
  {
   "cell_type": "code",
   "execution_count": 12,
   "id": "46098d12",
   "metadata": {
    "ExecuteTime": {
     "end_time": "2023-04-13T02:34:12.271065Z",
     "start_time": "2023-04-13T02:34:11.757622Z"
    }
   },
   "outputs": [],
   "source": [
    "##ファイルがあるときは一旦削除する\n",
    "if os.path.isfile('ulwrf10dy.dat'):\n",
    "    os.remove('ulwrf10dy.dat')"
   ]
  },
  {
   "cell_type": "code",
   "execution_count": 13,
   "id": "f536f358",
   "metadata": {
    "ExecuteTime": {
     "end_time": "2023-04-13T02:34:44.342463Z",
     "start_time": "2023-04-13T02:34:12.518810Z"
    }
   },
   "outputs": [
    {
     "name": "stdout",
     "output_type": "stream",
     "text": [
      "end\n"
     ]
    }
   ],
   "source": [
    "# ulwrf.sfc.gauss.XXXX.ncファイルを読んで１０日平均を取ってバイナリファイルに保存\n",
    "with open('ulwrf10dy.dat',mode='a') as f:\n",
    "    for year in range(1948,2022): # 1948-2021\n",
    "        month10dy = xr.DataArray(np.zeros((3,94,192))) # コピー用の配列を初期化\n",
    "        ulwrfnc = '01_ESTOC_ForcingData/NCEP_NCAR_Forcing/NCEP/ulwrf.sfc.gauss.'+str(year)+'.nc'\n",
    "        ulwrfnc = xr.open_dataset(ulwrfnc)['ulwrf'].load()\n",
    "    \n",
    "        for x in month:\n",
    "            # 範囲指定用の文字列構成\n",
    "            start1 = str(year) + '-' + str(x) + '-1'\n",
    "            end1 = str(year) + '-' + str(x) + '-10'\n",
    "            start2 = str(year) + '-' + str(x) + '-11'\n",
    "            end2 = str(year) + '-' + str(x) + '-20'\n",
    "            start3 = str(year) + '-' + str(x) + '-21'\n",
    "    \n",
    "            if x == 12:\n",
    "                nextmonth = 1\n",
    "                lastday = str(year+1) + '-' + str(nextmonth) + '-1'\n",
    "            else:\n",
    "                nextmonth = x + 1\n",
    "                lastday = str(year) + '-' + str(nextmonth) + '-1'\n",
    "\n",
    "            end3 = datetime.datetime.strptime(lastday,'%Y-%m-%d') - datetime.timedelta(days = 1)\n",
    "            end3 = end3.strftime('%Y-%m-%d')\n",
    "\n",
    "            # 上中下旬に分けて平均を取る（とりあえずmean重みなし）\n",
    "            data_mean_10dy1 = ulwrfnc.loc[start1:end1].mean(dim='time')\n",
    "            data_mean_10dy2 = ulwrfnc.loc[start2:end2].mean(dim='time')\n",
    "            data_mean_10dy3 = ulwrfnc.loc[start3:end3].mean(dim='time')\n",
    "\n",
    "            #月毎に10日区切りで3つ作ったら保存用の配列に代入\n",
    "            temp = np.stack([data_mean_10dy1,data_mean_10dy2,data_mean_10dy3],0) # tempは1ヶ月分\n",
    "            month10dy = np.append(month10dy,temp,axis=0) # 1ヶ月分のtempを順番にappendしていく（70年分）\n",
    "    \n",
    "            ulwrfyear= month10dy[3:] # 最初の3つは0なので消しておく\n",
    "        ulwrfyear.tofile(f)\n",
    "\n",
    "print('end')"
   ]
  },
  {
   "cell_type": "code",
   "execution_count": 14,
   "id": "a6196fbf",
   "metadata": {
    "ExecuteTime": {
     "end_time": "2023-04-13T02:34:47.778057Z",
     "start_time": "2023-04-13T02:34:47.716892Z"
    }
   },
   "outputs": [
    {
     "data": {
      "text/plain": [
       "12"
      ]
     },
     "execution_count": 14,
     "metadata": {},
     "output_type": "execute_result"
    }
   ],
   "source": [
    "# gabage collecter\n",
    "del data_mean_10dy1,data_mean_10dy3,data_mean_10dy2\n",
    "del ulwrfyear\n",
    "del month10dy,temp\n",
    "gc.collect()"
   ]
  },
  {
   "cell_type": "code",
   "execution_count": 15,
   "id": "1f78a973",
   "metadata": {
    "ExecuteTime": {
     "end_time": "2023-04-13T02:34:50.832968Z",
     "start_time": "2023-04-13T02:34:50.820614Z"
    }
   },
   "outputs": [],
   "source": [
    "##ファイルがあるときは一旦削除する\n",
    "if os.path.isfile('uswrf10dy.dat'):\n",
    "    os.remove('uswrf10dy.dat')"
   ]
  },
  {
   "cell_type": "code",
   "execution_count": 16,
   "id": "0fb75812",
   "metadata": {
    "ExecuteTime": {
     "end_time": "2023-04-13T02:35:24.485186Z",
     "start_time": "2023-04-13T02:34:52.261019Z"
    }
   },
   "outputs": [
    {
     "name": "stdout",
     "output_type": "stream",
     "text": [
      "end\n"
     ]
    }
   ],
   "source": [
    "# uswrf.sfc.gauss.XXXX.ncフィアルを読んで１０日平均を取ってバイナリファイルに保存\n",
    "with open('uswrf10dy.dat',mode='a') as f:\n",
    "    for year in range(1948,2022): # 1948-2021\n",
    "        month10dy = xr.DataArray(np.zeros((3,94,192))) # コピー用の配列を初期化\n",
    "        uswrfnc = '01_ESTOC_ForcingData/NCEP_NCAR_Forcing/NCEP/uswrf.sfc.gauss.'+str(year)+'.nc'\n",
    "        uswrfnc = xr.open_dataset(uswrfnc)['uswrf'].load()\n",
    "    \n",
    "        for x in month:\n",
    "            # 範囲指定用の文字列構成\n",
    "            start1 = str(year) + '-' + str(x) + '-1'\n",
    "            end1 = str(year) + '-' + str(x) + '-10'\n",
    "            start2 = str(year) + '-' + str(x) + '-11'\n",
    "            end2 = str(year) + '-' + str(x) + '-20'\n",
    "            start3 = str(year) + '-' + str(x) + '-21'\n",
    "    \n",
    "            if x == 12:\n",
    "                nextmonth = 1\n",
    "                lastday = str(year+1) + '-' + str(nextmonth) + '-1'\n",
    "            else:\n",
    "                nextmonth = x + 1\n",
    "                lastday = str(year) + '-' + str(nextmonth) + '-1'\n",
    "\n",
    "            end3 = datetime.datetime.strptime(lastday,'%Y-%m-%d') - datetime.timedelta(days = 1)\n",
    "            end3 = end3.strftime('%Y-%m-%d')\n",
    "\n",
    "            # 上中下旬に分けて平均を取る（とりあえずmean重みなし）\n",
    "            data_mean_10dy1 = uswrfnc.loc[start1:end1].mean(dim='time')\n",
    "            data_mean_10dy2 = uswrfnc.loc[start2:end2].mean(dim='time')\n",
    "            data_mean_10dy3 = uswrfnc.loc[start3:end3].mean(dim='time')\n",
    "\n",
    "            #月毎に10日区切りで3つ作ったら保存用の配列に代入\n",
    "            temp = np.stack([data_mean_10dy1,data_mean_10dy2,data_mean_10dy3],0) # tempは1ヶ月分\n",
    "            month10dy = np.append(month10dy,temp,axis=0) # 1ヶ月分のtempを順番にappendしていく（70年分）\n",
    "    \n",
    "            uswrfyear= month10dy[3:] # 最初の3つは0なので消しておく\n",
    "        uswrfyear.tofile(f)\n",
    "\n",
    "print('end')"
   ]
  },
  {
   "cell_type": "code",
   "execution_count": 17,
   "id": "9c23a73b",
   "metadata": {
    "ExecuteTime": {
     "end_time": "2023-04-13T02:35:27.113167Z",
     "start_time": "2023-04-13T02:35:27.052434Z"
    }
   },
   "outputs": [
    {
     "data": {
      "text/plain": [
       "12"
      ]
     },
     "execution_count": 17,
     "metadata": {},
     "output_type": "execute_result"
    }
   ],
   "source": [
    "# gabage collecter\n",
    "del data_mean_10dy1,data_mean_10dy3,data_mean_10dy2\n",
    "del uswrfyear\n",
    "del month10dy,temp\n",
    "gc.collect()"
   ]
  },
  {
   "cell_type": "code",
   "execution_count": 18,
   "id": "5af0b06e",
   "metadata": {
    "ExecuteTime": {
     "end_time": "2023-04-13T02:35:28.138378Z",
     "start_time": "2023-04-13T02:35:28.124172Z"
    }
   },
   "outputs": [],
   "source": [
    "##ファイルがあるときは一旦削除する\n",
    "if os.path.isfile('shtfl10dy.dat'):\n",
    "    os.remove('shtfl10dy.dat')"
   ]
  },
  {
   "cell_type": "code",
   "execution_count": 19,
   "id": "ffb4bab4",
   "metadata": {
    "ExecuteTime": {
     "end_time": "2023-04-13T02:35:59.003458Z",
     "start_time": "2023-04-13T02:35:29.181186Z"
    }
   },
   "outputs": [
    {
     "name": "stdout",
     "output_type": "stream",
     "text": [
      "end\n"
     ]
    }
   ],
   "source": [
    "# shtfl.sfc.gauss.XXXX.ncファイルを読んで１０日平均を取ってバイナリファイルに保存\n",
    "with open('shtfl10dy.dat',mode='a') as f:\n",
    "    for year in range(1948,2022): # 1948-2021\n",
    "        month10dy = xr.DataArray(np.zeros((3,94,192))) # コピー用の配列を初期化\n",
    "        shtflnc = '01_ESTOC_ForcingData/NCEP_NCAR_Forcing/NCEP/shtfl.sfc.gauss.'+str(year)+'.nc'\n",
    "        shtflnc = xr.open_dataset(shtflnc)['shtfl'].load()\n",
    "    \n",
    "        for x in month:\n",
    "            # 範囲指定用の文字列構成\n",
    "            start1 = str(year) + '-' + str(x) + '-1'\n",
    "            end1 = str(year) + '-' + str(x) + '-10'\n",
    "            start2 = str(year) + '-' + str(x) + '-11'\n",
    "            end2 = str(year) + '-' + str(x) + '-20'\n",
    "            start3 = str(year) + '-' + str(x) + '-21'\n",
    "    \n",
    "            if x == 12:\n",
    "                nextmonth = 1\n",
    "                lastday = str(year+1) + '-' + str(nextmonth) + '-1'\n",
    "            else:\n",
    "                nextmonth = x + 1\n",
    "                lastday = str(year) + '-' + str(nextmonth) + '-1'\n",
    "\n",
    "            end3 = datetime.datetime.strptime(lastday,'%Y-%m-%d') - datetime.timedelta(days = 1)\n",
    "            end3 = end3.strftime('%Y-%m-%d')\n",
    "\n",
    "            # 上中下旬に分けて平均を取る（とりあえずmean重みなし）\n",
    "            data_mean_10dy1 = shtflnc.loc[start1:end1].mean(dim='time')\n",
    "            data_mean_10dy2 = shtflnc.loc[start2:end2].mean(dim='time')\n",
    "            data_mean_10dy3 = shtflnc.loc[start3:end3].mean(dim='time')\n",
    "\n",
    "            #月毎に10日区切りで3つ作ったら保存用の配列に代入\n",
    "            temp = np.stack([data_mean_10dy1,data_mean_10dy2,data_mean_10dy3],0) # tempは1ヶ月分\n",
    "            month10dy = np.append(month10dy,temp,axis=0) # 1ヶ月分のtempを順番にappendしていく（70年分）\n",
    "    \n",
    "            shtflyear= month10dy[3:] # 最初の3つは0なので消しておく\n",
    "        shtflyear.tofile(f)\n",
    "\n",
    "print('end')"
   ]
  },
  {
   "cell_type": "code",
   "execution_count": 20,
   "id": "a8ec85f5",
   "metadata": {
    "ExecuteTime": {
     "end_time": "2023-04-13T02:36:03.011831Z",
     "start_time": "2023-04-13T02:36:02.947734Z"
    }
   },
   "outputs": [
    {
     "data": {
      "text/plain": [
       "24"
      ]
     },
     "execution_count": 20,
     "metadata": {},
     "output_type": "execute_result"
    }
   ],
   "source": [
    "# gabage collecter\n",
    "del data_mean_10dy1,data_mean_10dy3,data_mean_10dy2\n",
    "del shtflyear\n",
    "del month10dy,temp\n",
    "gc.collect()"
   ]
  },
  {
   "cell_type": "code",
   "execution_count": 21,
   "id": "ecf96bd4",
   "metadata": {
    "ExecuteTime": {
     "end_time": "2023-04-13T02:36:04.294250Z",
     "start_time": "2023-04-13T02:36:04.283712Z"
    }
   },
   "outputs": [],
   "source": [
    "##ファイルがあるときは一旦削除する\n",
    "if os.path.isfile('uflx10dy.dat'):\n",
    "    os.remove('uflx10dy.dat')"
   ]
  },
  {
   "cell_type": "code",
   "execution_count": 22,
   "id": "bedb7e25",
   "metadata": {
    "ExecuteTime": {
     "end_time": "2023-04-13T02:36:46.245258Z",
     "start_time": "2023-04-13T02:36:11.139430Z"
    }
   },
   "outputs": [
    {
     "name": "stdout",
     "output_type": "stream",
     "text": [
      "end\n"
     ]
    }
   ],
   "source": [
    "# uflx.sfc.gauss.XXXX.ncファイルを読んで１０日平均を取ってバイナリファイルに保存\n",
    "with open('uflx10dy.dat',mode='a') as f:\n",
    "    for year in range(1948,2022): # 1948-2021\n",
    "        month10dy = xr.DataArray(np.zeros((3,94,192))) # コピー用の配列を初期化\n",
    "        uflxnc = '01_ESTOC_ForcingData/NCEP_NCAR_Forcing/NCEP/uflx.sfc.gauss.'+str(year)+'.nc'\n",
    "        uflxnc = xr.open_dataset(uflxnc)['uflx'].load()\n",
    "    \n",
    "        for x in month:\n",
    "            # 範囲指定用の文字列構成\n",
    "            start1 = str(year) + '-' + str(x) + '-1'\n",
    "            end1 = str(year) + '-' + str(x) + '-10'\n",
    "            start2 = str(year) + '-' + str(x) + '-11'\n",
    "            end2 = str(year) + '-' + str(x) + '-20'\n",
    "            start3 = str(year) + '-' + str(x) + '-21'\n",
    "    \n",
    "            if x == 12:\n",
    "                nextmonth = 1\n",
    "                lastday = str(year+1) + '-' + str(nextmonth) + '-1'\n",
    "            else:\n",
    "                nextmonth = x + 1\n",
    "                lastday = str(year) + '-' + str(nextmonth) + '-1'\n",
    "\n",
    "            end3 = datetime.datetime.strptime(lastday,'%Y-%m-%d') - datetime.timedelta(days = 1)\n",
    "            end3 = end3.strftime('%Y-%m-%d')\n",
    "\n",
    "            # 上中下旬に分けて平均を取る（とりあえずmean重みなし）\n",
    "            data_mean_10dy1 = uflxnc.loc[start1:end1].mean(dim='time')\n",
    "            data_mean_10dy2 = uflxnc.loc[start2:end2].mean(dim='time')\n",
    "            data_mean_10dy3 = uflxnc.loc[start3:end3].mean(dim='time')\n",
    "\n",
    "            #月毎に10日区切りで3つ作ったら保存用の配列に代入\n",
    "            temp = np.stack([data_mean_10dy1,data_mean_10dy2,data_mean_10dy3],0) # tempは1ヶ月分\n",
    "            month10dy = np.append(month10dy,temp,axis=0) # 1ヶ月分のtempを順番にappendしていく（70年分）\n",
    "    \n",
    "            uflxyear= month10dy[3:] # 最初の3つは0なので消しておく\n",
    "        uflxyear.tofile(f)\n",
    "\n",
    "print('end')"
   ]
  },
  {
   "cell_type": "code",
   "execution_count": 23,
   "id": "48286f17",
   "metadata": {
    "ExecuteTime": {
     "end_time": "2023-04-13T02:36:53.096096Z",
     "start_time": "2023-04-13T02:36:53.034799Z"
    }
   },
   "outputs": [
    {
     "data": {
      "text/plain": [
       "36"
      ]
     },
     "execution_count": 23,
     "metadata": {},
     "output_type": "execute_result"
    }
   ],
   "source": [
    "# gabage collecter\n",
    "del data_mean_10dy1,data_mean_10dy3,data_mean_10dy2\n",
    "del uflxyear\n",
    "del month10dy,temp\n",
    "gc.collect()"
   ]
  },
  {
   "cell_type": "code",
   "execution_count": 24,
   "id": "392cfa6f",
   "metadata": {
    "ExecuteTime": {
     "end_time": "2023-04-13T02:36:54.085145Z",
     "start_time": "2023-04-13T02:36:54.050923Z"
    }
   },
   "outputs": [],
   "source": [
    "##ファイルがあるときは一旦削除する\n",
    "if os.path.isfile('vflx10dy.dat'):\n",
    "    os.remove('vflx10dy.dat')"
   ]
  },
  {
   "cell_type": "code",
   "execution_count": 25,
   "id": "6c0e584c",
   "metadata": {
    "ExecuteTime": {
     "end_time": "2023-04-13T02:37:29.200643Z",
     "start_time": "2023-04-13T02:36:55.091056Z"
    }
   },
   "outputs": [
    {
     "name": "stdout",
     "output_type": "stream",
     "text": [
      "end\n"
     ]
    }
   ],
   "source": [
    "# vflx.sfc.gauss.XXXX.ncファイルを読んで１０日平均を取ってバイナリファイルに保存\n",
    "with open('vflx10dy.dat',mode='a') as f:\n",
    "    for year in range(1948,2022): # 1948-2021\n",
    "        month10dy = xr.DataArray(np.zeros((3,94,192))) # コピー用の配列を初期化\n",
    "        vflxnc = '01_ESTOC_ForcingData/NCEP_NCAR_Forcing/NCEP/vflx.sfc.gauss.'+str(year)+'.nc'\n",
    "        vflxnc = xr.open_dataset(vflxnc)['vflx'].load()\n",
    "    \n",
    "        for x in month:\n",
    "            # 範囲指定用の文字列構成\n",
    "            start1 = str(year) + '-' + str(x) + '-1'\n",
    "            end1 = str(year) + '-' + str(x) + '-10'\n",
    "            start2 = str(year) + '-' + str(x) + '-11'\n",
    "            end2 = str(year) + '-' + str(x) + '-20'\n",
    "            start3 = str(year) + '-' + str(x) + '-21'\n",
    "    \n",
    "            if x == 12:\n",
    "                nextmonth = 1\n",
    "                lastday = str(year+1) + '-' + str(nextmonth) + '-1'\n",
    "            else:\n",
    "                nextmonth = x + 1\n",
    "                lastday = str(year) + '-' + str(nextmonth) + '-1'\n",
    "\n",
    "            end3 = datetime.datetime.strptime(lastday,'%Y-%m-%d') - datetime.timedelta(days = 1)\n",
    "            end3 = end3.strftime('%Y-%m-%d')\n",
    "\n",
    "            # 上中下旬に分けて平均を取る（とりあえずmean重みなし）\n",
    "            data_mean_10dy1 = vflxnc.loc[start1:end1].mean(dim='time')\n",
    "            data_mean_10dy2 = vflxnc.loc[start2:end2].mean(dim='time')\n",
    "            data_mean_10dy3 = vflxnc.loc[start3:end3].mean(dim='time')\n",
    "\n",
    "            #月毎に10日区切りで3つ作ったら保存用の配列に代入\n",
    "            temp = np.stack([data_mean_10dy1,data_mean_10dy2,data_mean_10dy3],0) # tempは1ヶ月分\n",
    "            month10dy = np.append(month10dy,temp,axis=0) # 1ヶ月分のtempを順番にappendしていく（70年分）\n",
    "    \n",
    "            vflxncyear= month10dy[3:] # 最初の3つは0なので消しておく\n",
    "        vflxncyear.tofile(f)\n",
    "\n",
    "print('end')"
   ]
  },
  {
   "cell_type": "code",
   "execution_count": 26,
   "id": "858d04d3",
   "metadata": {
    "ExecuteTime": {
     "end_time": "2023-04-13T02:37:31.430478Z",
     "start_time": "2023-04-13T02:37:31.370118Z"
    }
   },
   "outputs": [
    {
     "data": {
      "text/plain": [
       "36"
      ]
     },
     "execution_count": 26,
     "metadata": {},
     "output_type": "execute_result"
    }
   ],
   "source": [
    "# gabage collecter\n",
    "del data_mean_10dy1,data_mean_10dy3,data_mean_10dy2\n",
    "del vflxyear\n",
    "del month10dy,temp\n",
    "gc.collect()"
   ]
  },
  {
   "cell_type": "code",
   "execution_count": 27,
   "id": "b64cb13c",
   "metadata": {
    "ExecuteTime": {
     "end_time": "2023-04-13T02:37:33.140492Z",
     "start_time": "2023-04-13T02:37:33.138262Z"
    }
   },
   "outputs": [],
   "source": [
    "# この時点で必要なデータ\n",
    "#####\n",
    "# 10日平均の9ファイル\n",
    "# shapeは(36,94,192) 1ヶ月を10日区切りで\n",
    "# dlwrf10dy.dat , dswrf10dy.dat , lhtfl10dy.dat\n",
    "# prate10dy.dat , shtfl10dy.dat , uflx10dy.dat\n",
    "# ulwrf10dy.dat , uswrf10dy.dat , vflx10dy.dat \n",
    "#####\n",
    "# land.06.ft.bigファイルを読み込んだ land (94,192)\n",
    "# prev_climate7902.nc2.bigを読み込んだ climate (12,94,192)\n",
    "\n"
   ]
  },
  {
   "cell_type": "code",
   "execution_count": null,
   "id": "c68fdbdc",
   "metadata": {},
   "outputs": [],
   "source": []
  }
 ],
 "metadata": {
  "kernelspec": {
   "display_name": "Python 3 (ipykernel)",
   "language": "python",
   "name": "python3"
  },
  "language_info": {
   "codemirror_mode": {
    "name": "ipython",
    "version": 3
   },
   "file_extension": ".py",
   "mimetype": "text/x-python",
   "name": "python",
   "nbconvert_exporter": "python",
   "pygments_lexer": "ipython3",
   "version": "3.8.16"
  },
  "toc": {
   "base_numbering": 1,
   "nav_menu": {},
   "number_sections": false,
   "sideBar": true,
   "skip_h1_title": false,
   "title_cell": "Table of Contents",
   "title_sidebar": "Contents",
   "toc_cell": false,
   "toc_position": {},
   "toc_section_display": true,
   "toc_window_display": false
  },
  "varInspector": {
   "cols": {
    "lenName": 16,
    "lenType": 16,
    "lenVar": 40
   },
   "kernels_config": {
    "python": {
     "delete_cmd_postfix": "",
     "delete_cmd_prefix": "del ",
     "library": "var_list.py",
     "varRefreshCmd": "print(var_dic_list())"
    },
    "r": {
     "delete_cmd_postfix": ") ",
     "delete_cmd_prefix": "rm(",
     "library": "var_list.r",
     "varRefreshCmd": "cat(var_dic_list()) "
    }
   },
   "oldHeight": 624.760666,
   "position": {
    "height": "40px",
    "left": "276px",
    "right": "20px",
    "top": "88px",
    "width": "516px"
   },
   "types_to_exclude": [
    "module",
    "function",
    "builtin_function_or_method",
    "instance",
    "_Feature"
   ],
   "varInspector_section_display": "none",
   "window_display": false
  }
 },
 "nbformat": 4,
 "nbformat_minor": 5
}
